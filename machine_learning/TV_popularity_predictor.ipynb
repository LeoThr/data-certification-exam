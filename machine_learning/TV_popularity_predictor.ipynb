{
 "cells": [
  {
   "cell_type": "markdown",
   "metadata": {},
   "source": [
    "# TV shows Popularity Predictor (39%)\n",
    "\n",
    "The goal of this challenge is to create a model that predicts the `popularity` of a movie or TV show\n",
    "\n",
    "<img src=\"image.jpg\" width=300 />\n",
    "\n",
    "\n",
    "\n",
    "\n",
    "The dataset contains a list of movies and TV shows with the following characteristics:\n",
    "- `title`: title of the movie in english\n",
    "- `original_title`: original title of the movie \n",
    "- `duration_min`: duration of the movie in minutes\n",
    "- `popularity`: popularity of the movie in terms of review scores\n",
    "- `release_date`: release date\n",
    "- `description`: short summary of the movie\n",
    "- `budget`: budget spent to produce the movie in USD\n",
    "- `revenue`: movie revenue in USD \n",
    "- `original_language`: original language \n",
    "- `status`: is the movie already released or not\n",
    "- `number_of_awards_won`: number of awards won for the movie\n",
    "- `number_of_nominations`: number of nominations\n",
    "- `has_collection`: if the movie is part of a sequel or not\n",
    "- `all_genres`: genres that described the movie (can be zero, one or many!) \n",
    "- `top_countries`: countries where the movie was produced (can be zero, one or many!) \n",
    "- `number_of_top_productions`: number of top production companies that produced the film if any. \n",
    "Top production companies includes: Warner Bros, Universal Pictures, Paramount Pictures, Canal+, etc...\n",
    "- `available_in_english`: whether the movie is available in english or not"
   ]
  },
  {
   "cell_type": "markdown",
   "metadata": {},
   "source": [
    "## Imports\n",
    "\n",
    "Run the following cell to load the basic packages:"
   ]
  },
  {
   "cell_type": "code",
   "execution_count": 116,
   "metadata": {
    "ExecuteTime": {
     "end_time": "2021-06-30T11:53:20.577841Z",
     "start_time": "2021-06-30T11:53:20.573674Z"
    }
   },
   "outputs": [],
   "source": [
    "import numpy as np\n",
    "import pandas as pd\n",
    "import matplotlib.pyplot as plt\n",
    "import seaborn as sns\n",
    "from nbresult import ChallengeResult"
   ]
  },
  {
   "cell_type": "markdown",
   "metadata": {},
   "source": [
    "## Data collection\n",
    "\n",
    "📝 **Load the `movie_popularity.csv` dataset from the provided this [URL](https://wagon-public-datasets.s3.amazonaws.com/certification_france_2021_q2/tv_movies_popularity.csv)**\n",
    "- First, check and remove the rows that may be complete duplicate from one another (we never know!)\n",
    "- Then, drop the columns that have too much missing values\n",
    "- Finally, drop the few remaining rows that have missing values\n",
    "- Store the result in a `DataFrame` named `data`"
   ]
  },
  {
   "cell_type": "code",
   "execution_count": 117,
   "metadata": {
    "ExecuteTime": {
     "end_time": "2021-06-30T11:53:22.220679Z",
     "start_time": "2021-06-30T11:53:20.581012Z"
    },
    "slideshow": {
     "slide_type": "notes"
    },
    "tags": [
     "challengify"
    ]
   },
   "outputs": [
    {
     "name": "stdout",
     "output_type": "stream",
     "text": [
      "  % Total    % Received % Xferd  Average Speed   Time    Time     Time  Current\n",
      "                                 Dload  Upload   Total   Spent    Left  Speed\n",
      "100 1978k  100 1978k    0     0  1401k      0  0:00:01  0:00:01 --:--:-- 1401k\n"
     ]
    },
    {
     "data": {
      "text/plain": [
       "original_title                  0\n",
       "title                           1\n",
       "popularity                      0\n",
       "release_date                    0\n",
       "duration_min                    0\n",
       "description                     0\n",
       "budget                          0\n",
       "revenue                      4086\n",
       "original_language               0\n",
       "status                          0\n",
       "number_of_awards_won            0\n",
       "number_of_nominations           0\n",
       "has_collection                  0\n",
       "all_genres                      0\n",
       "top_countries                   0\n",
       "number_of_top_productions       0\n",
       "available_in_english            0\n",
       "dtype: int64"
      ]
     },
     "execution_count": 117,
     "metadata": {},
     "output_type": "execute_result"
    }
   ],
   "source": [
    "# YOUR CODE HERE\n",
    "! curl https://wagon-public-datasets.s3.amazonaws.com/certification_france_2021_q2/tv_movies_popularity.csv > movie_popularity.csv\n",
    "\n",
    "df = pd.read_csv('movie_popularity.csv')\n",
    "df.isna().sum()"
   ]
  },
  {
   "cell_type": "code",
   "execution_count": 118,
   "metadata": {
    "ExecuteTime": {
     "end_time": "2021-06-30T11:53:22.255455Z",
     "start_time": "2021-06-30T11:53:22.223949Z"
    }
   },
   "outputs": [
    {
     "data": {
      "text/html": [
       "<div>\n",
       "<style scoped>\n",
       "    .dataframe tbody tr th:only-of-type {\n",
       "        vertical-align: middle;\n",
       "    }\n",
       "\n",
       "    .dataframe tbody tr th {\n",
       "        vertical-align: top;\n",
       "    }\n",
       "\n",
       "    .dataframe thead th {\n",
       "        text-align: right;\n",
       "    }\n",
       "</style>\n",
       "<table border=\"1\" class=\"dataframe\">\n",
       "  <thead>\n",
       "    <tr style=\"text-align: right;\">\n",
       "      <th></th>\n",
       "      <th>original_title</th>\n",
       "      <th>title</th>\n",
       "      <th>popularity</th>\n",
       "      <th>release_date</th>\n",
       "      <th>duration_min</th>\n",
       "      <th>description</th>\n",
       "      <th>budget</th>\n",
       "      <th>original_language</th>\n",
       "      <th>status</th>\n",
       "      <th>number_of_awards_won</th>\n",
       "      <th>number_of_nominations</th>\n",
       "      <th>has_collection</th>\n",
       "      <th>all_genres</th>\n",
       "      <th>top_countries</th>\n",
       "      <th>number_of_top_productions</th>\n",
       "      <th>available_in_english</th>\n",
       "    </tr>\n",
       "  </thead>\n",
       "  <tbody>\n",
       "    <tr>\n",
       "      <th>0</th>\n",
       "      <td>Hot Tub Time Machine 2</td>\n",
       "      <td>Hot Tub Time Machine 2</td>\n",
       "      <td>6.575393</td>\n",
       "      <td>2015-02-20</td>\n",
       "      <td>93.0</td>\n",
       "      <td>When Lou's shot in the groin, Nick and Jacob d...</td>\n",
       "      <td>14000000</td>\n",
       "      <td>en</td>\n",
       "      <td>Released</td>\n",
       "      <td>0</td>\n",
       "      <td>2</td>\n",
       "      <td>1</td>\n",
       "      <td>Comedy</td>\n",
       "      <td>United States of America</td>\n",
       "      <td>3</td>\n",
       "      <td>True</td>\n",
       "    </tr>\n",
       "    <tr>\n",
       "      <th>1</th>\n",
       "      <td>The Princess Diaries 2: Royal Engagement</td>\n",
       "      <td>The Princess Diaries 2: Royal Engagement</td>\n",
       "      <td>8.248895</td>\n",
       "      <td>2004-08-06</td>\n",
       "      <td>113.0</td>\n",
       "      <td>Now settled in Genovia, Princess Mia faces a n...</td>\n",
       "      <td>40000000</td>\n",
       "      <td>en</td>\n",
       "      <td>Released</td>\n",
       "      <td>1</td>\n",
       "      <td>2</td>\n",
       "      <td>1</td>\n",
       "      <td>Comedy, Drama, Family, Romance</td>\n",
       "      <td>United States of America</td>\n",
       "      <td>1</td>\n",
       "      <td>True</td>\n",
       "    </tr>\n",
       "    <tr>\n",
       "      <th>2</th>\n",
       "      <td>Whiplash</td>\n",
       "      <td>Whiplash</td>\n",
       "      <td>64.299990</td>\n",
       "      <td>2014-10-10</td>\n",
       "      <td>105.0</td>\n",
       "      <td>A promising young drummer enrolls at a cut-thr...</td>\n",
       "      <td>3300000</td>\n",
       "      <td>en</td>\n",
       "      <td>Released</td>\n",
       "      <td>97</td>\n",
       "      <td>145</td>\n",
       "      <td>0</td>\n",
       "      <td>Drama</td>\n",
       "      <td>United States of America</td>\n",
       "      <td>0</td>\n",
       "      <td>True</td>\n",
       "    </tr>\n",
       "    <tr>\n",
       "      <th>3</th>\n",
       "      <td>Kahaani</td>\n",
       "      <td>Kahaani</td>\n",
       "      <td>3.174936</td>\n",
       "      <td>2012-03-09</td>\n",
       "      <td>122.0</td>\n",
       "      <td>A pregnant woman's search for her missing husb...</td>\n",
       "      <td>1200000</td>\n",
       "      <td>hi</td>\n",
       "      <td>Released</td>\n",
       "      <td>23</td>\n",
       "      <td>18</td>\n",
       "      <td>0</td>\n",
       "      <td>Drama, Thriller</td>\n",
       "      <td>India</td>\n",
       "      <td>0</td>\n",
       "      <td>True</td>\n",
       "    </tr>\n",
       "    <tr>\n",
       "      <th>4</th>\n",
       "      <td>The Possession</td>\n",
       "      <td>The Possession</td>\n",
       "      <td>7.286477</td>\n",
       "      <td>2012-08-30</td>\n",
       "      <td>92.0</td>\n",
       "      <td>A young girl buys an antique box at a yard sal...</td>\n",
       "      <td>14000000</td>\n",
       "      <td>en</td>\n",
       "      <td>Released</td>\n",
       "      <td>0</td>\n",
       "      <td>6</td>\n",
       "      <td>0</td>\n",
       "      <td>Horror, Thriller</td>\n",
       "      <td>Canada, United States of America</td>\n",
       "      <td>0</td>\n",
       "      <td>True</td>\n",
       "    </tr>\n",
       "    <tr>\n",
       "      <th>...</th>\n",
       "      <td>...</td>\n",
       "      <td>...</td>\n",
       "      <td>...</td>\n",
       "      <td>...</td>\n",
       "      <td>...</td>\n",
       "      <td>...</td>\n",
       "      <td>...</td>\n",
       "      <td>...</td>\n",
       "      <td>...</td>\n",
       "      <td>...</td>\n",
       "      <td>...</td>\n",
       "      <td>...</td>\n",
       "      <td>...</td>\n",
       "      <td>...</td>\n",
       "      <td>...</td>\n",
       "      <td>...</td>\n",
       "    </tr>\n",
       "    <tr>\n",
       "      <th>6859</th>\n",
       "      <td>The King and I</td>\n",
       "      <td>The King and I</td>\n",
       "      <td>1.466461</td>\n",
       "      <td>1999-03-19</td>\n",
       "      <td>87.0</td>\n",
       "      <td>Traveling to the exotic kingdom of Siam, Engli...</td>\n",
       "      <td>25000000</td>\n",
       "      <td>en</td>\n",
       "      <td>Released</td>\n",
       "      <td>0</td>\n",
       "      <td>6</td>\n",
       "      <td>0</td>\n",
       "      <td>Animation, Drama, Family</td>\n",
       "      <td>United States of America</td>\n",
       "      <td>1</td>\n",
       "      <td>True</td>\n",
       "    </tr>\n",
       "    <tr>\n",
       "      <th>6860</th>\n",
       "      <td>Little Black Book</td>\n",
       "      <td>Little Black Book</td>\n",
       "      <td>5.093704</td>\n",
       "      <td>2004-08-06</td>\n",
       "      <td>111.0</td>\n",
       "      <td>A woman snoops through her boyfriend's palm pi...</td>\n",
       "      <td>35000000</td>\n",
       "      <td>en</td>\n",
       "      <td>Released</td>\n",
       "      <td>0</td>\n",
       "      <td>1</td>\n",
       "      <td>0</td>\n",
       "      <td>Comedy, Drama, Romance</td>\n",
       "      <td>United States of America</td>\n",
       "      <td>0</td>\n",
       "      <td>True</td>\n",
       "    </tr>\n",
       "    <tr>\n",
       "      <th>6861</th>\n",
       "      <td>The English Teacher</td>\n",
       "      <td>The English Teacher</td>\n",
       "      <td>9.673017</td>\n",
       "      <td>2013-05-16</td>\n",
       "      <td>91.0</td>\n",
       "      <td>An English teacher's life is disrupted when a ...</td>\n",
       "      <td>0</td>\n",
       "      <td>en</td>\n",
       "      <td>Released</td>\n",
       "      <td>0</td>\n",
       "      <td>0</td>\n",
       "      <td>0</td>\n",
       "      <td>Comedy, Drama</td>\n",
       "      <td>United States of America</td>\n",
       "      <td>0</td>\n",
       "      <td>True</td>\n",
       "    </tr>\n",
       "    <tr>\n",
       "      <th>6862</th>\n",
       "      <td>2001: A Space Odyssey</td>\n",
       "      <td>2001: A Space Odyssey</td>\n",
       "      <td>22.494622</td>\n",
       "      <td>1968-04-10</td>\n",
       "      <td>149.0</td>\n",
       "      <td>After discovering a mysterious artifact buried...</td>\n",
       "      <td>10500000</td>\n",
       "      <td>en</td>\n",
       "      <td>Released</td>\n",
       "      <td>16</td>\n",
       "      <td>11</td>\n",
       "      <td>1</td>\n",
       "      <td>Adventure, Mystery, Science Fiction</td>\n",
       "      <td>United Kingdom, United States of America</td>\n",
       "      <td>1</td>\n",
       "      <td>True</td>\n",
       "    </tr>\n",
       "    <tr>\n",
       "      <th>6863</th>\n",
       "      <td>Event Horizon</td>\n",
       "      <td>Event Horizon</td>\n",
       "      <td>11.335072</td>\n",
       "      <td>1997-08-15</td>\n",
       "      <td>96.0</td>\n",
       "      <td>A rescue crew investigates a spaceship that di...</td>\n",
       "      <td>60000000</td>\n",
       "      <td>en</td>\n",
       "      <td>Released</td>\n",
       "      <td>1</td>\n",
       "      <td>2</td>\n",
       "      <td>0</td>\n",
       "      <td>Horror, Mystery, Science Fiction</td>\n",
       "      <td>United Kingdom, United States of America</td>\n",
       "      <td>1</td>\n",
       "      <td>True</td>\n",
       "    </tr>\n",
       "  </tbody>\n",
       "</table>\n",
       "<p>6863 rows × 16 columns</p>\n",
       "</div>"
      ],
      "text/plain": [
       "                                original_title  \\\n",
       "0                       Hot Tub Time Machine 2   \n",
       "1     The Princess Diaries 2: Royal Engagement   \n",
       "2                                     Whiplash   \n",
       "3                                      Kahaani   \n",
       "4                               The Possession   \n",
       "...                                        ...   \n",
       "6859                            The King and I   \n",
       "6860                         Little Black Book   \n",
       "6861                       The English Teacher   \n",
       "6862                     2001: A Space Odyssey   \n",
       "6863                             Event Horizon   \n",
       "\n",
       "                                         title  popularity release_date  \\\n",
       "0                       Hot Tub Time Machine 2    6.575393   2015-02-20   \n",
       "1     The Princess Diaries 2: Royal Engagement    8.248895   2004-08-06   \n",
       "2                                     Whiplash   64.299990   2014-10-10   \n",
       "3                                      Kahaani    3.174936   2012-03-09   \n",
       "4                               The Possession    7.286477   2012-08-30   \n",
       "...                                        ...         ...          ...   \n",
       "6859                            The King and I    1.466461   1999-03-19   \n",
       "6860                         Little Black Book    5.093704   2004-08-06   \n",
       "6861                       The English Teacher    9.673017   2013-05-16   \n",
       "6862                     2001: A Space Odyssey   22.494622   1968-04-10   \n",
       "6863                             Event Horizon   11.335072   1997-08-15   \n",
       "\n",
       "      duration_min                                        description  \\\n",
       "0             93.0  When Lou's shot in the groin, Nick and Jacob d...   \n",
       "1            113.0  Now settled in Genovia, Princess Mia faces a n...   \n",
       "2            105.0  A promising young drummer enrolls at a cut-thr...   \n",
       "3            122.0  A pregnant woman's search for her missing husb...   \n",
       "4             92.0  A young girl buys an antique box at a yard sal...   \n",
       "...            ...                                                ...   \n",
       "6859          87.0  Traveling to the exotic kingdom of Siam, Engli...   \n",
       "6860         111.0  A woman snoops through her boyfriend's palm pi...   \n",
       "6861          91.0  An English teacher's life is disrupted when a ...   \n",
       "6862         149.0  After discovering a mysterious artifact buried...   \n",
       "6863          96.0  A rescue crew investigates a spaceship that di...   \n",
       "\n",
       "        budget original_language    status  number_of_awards_won  \\\n",
       "0     14000000                en  Released                     0   \n",
       "1     40000000                en  Released                     1   \n",
       "2      3300000                en  Released                    97   \n",
       "3      1200000                hi  Released                    23   \n",
       "4     14000000                en  Released                     0   \n",
       "...        ...               ...       ...                   ...   \n",
       "6859  25000000                en  Released                     0   \n",
       "6860  35000000                en  Released                     0   \n",
       "6861         0                en  Released                     0   \n",
       "6862  10500000                en  Released                    16   \n",
       "6863  60000000                en  Released                     1   \n",
       "\n",
       "      number_of_nominations  has_collection  \\\n",
       "0                         2               1   \n",
       "1                         2               1   \n",
       "2                       145               0   \n",
       "3                        18               0   \n",
       "4                         6               0   \n",
       "...                     ...             ...   \n",
       "6859                      6               0   \n",
       "6860                      1               0   \n",
       "6861                      0               0   \n",
       "6862                     11               1   \n",
       "6863                      2               0   \n",
       "\n",
       "                               all_genres  \\\n",
       "0                                  Comedy   \n",
       "1          Comedy, Drama, Family, Romance   \n",
       "2                                   Drama   \n",
       "3                         Drama, Thriller   \n",
       "4                        Horror, Thriller   \n",
       "...                                   ...   \n",
       "6859             Animation, Drama, Family   \n",
       "6860               Comedy, Drama, Romance   \n",
       "6861                        Comedy, Drama   \n",
       "6862  Adventure, Mystery, Science Fiction   \n",
       "6863     Horror, Mystery, Science Fiction   \n",
       "\n",
       "                                 top_countries  number_of_top_productions  \\\n",
       "0                     United States of America                          3   \n",
       "1                     United States of America                          1   \n",
       "2                     United States of America                          0   \n",
       "3                                        India                          0   \n",
       "4             Canada, United States of America                          0   \n",
       "...                                        ...                        ...   \n",
       "6859                  United States of America                          1   \n",
       "6860                  United States of America                          0   \n",
       "6861                  United States of America                          0   \n",
       "6862  United Kingdom, United States of America                          1   \n",
       "6863  United Kingdom, United States of America                          1   \n",
       "\n",
       "      available_in_english  \n",
       "0                     True  \n",
       "1                     True  \n",
       "2                     True  \n",
       "3                     True  \n",
       "4                     True  \n",
       "...                    ...  \n",
       "6859                  True  \n",
       "6860                  True  \n",
       "6861                  True  \n",
       "6862                  True  \n",
       "6863                  True  \n",
       "\n",
       "[6863 rows x 16 columns]"
      ]
     },
     "execution_count": 118,
     "metadata": {},
     "output_type": "execute_result"
    }
   ],
   "source": [
    "df.drop(columns = 'revenue', inplace = True)\n",
    "data = df.dropna()\n",
    "data"
   ]
  },
  {
   "cell_type": "markdown",
   "metadata": {},
   "source": [
    "### 🧪 Run the following cell to save your results"
   ]
  },
  {
   "cell_type": "code",
   "execution_count": 119,
   "metadata": {
    "ExecuteTime": {
     "end_time": "2021-06-30T11:53:22.267181Z",
     "start_time": "2021-06-30T11:53:22.257852Z"
    }
   },
   "outputs": [],
   "source": [
    "from nbresult import ChallengeResult\n",
    "\n",
    "result = ChallengeResult(\n",
    "    \"data_cleaning\",\n",
    "    columns=data.columns,\n",
    "    cleaning=sum(data.isnull().sum()),\n",
    "    shape=data.shape)\n",
    "result.write()"
   ]
  },
  {
   "cell_type": "markdown",
   "metadata": {},
   "source": [
    "## Baseline model"
   ]
  },
  {
   "cell_type": "markdown",
   "metadata": {},
   "source": [
    "### The metric"
   ]
  },
  {
   "cell_type": "markdown",
   "metadata": {},
   "source": [
    "📝 **We want to predict `popularity`: Start by plotting a histogram of the target to visualize it**"
   ]
  },
  {
   "cell_type": "code",
   "execution_count": 120,
   "metadata": {
    "ExecuteTime": {
     "end_time": "2021-06-30T11:53:22.410130Z",
     "start_time": "2021-06-30T11:53:22.269291Z"
    }
   },
   "outputs": [
    {
     "data": {
      "text/plain": [
       "(array([4.487e+03, 2.124e+03, 1.420e+02, 5.900e+01, 1.800e+01, 6.000e+00,\n",
       "        3.000e+00, 3.000e+00, 3.000e+00, 1.000e+00, 0.000e+00, 0.000e+00,\n",
       "        1.000e+00, 1.000e+00, 4.000e+00]),\n",
       " array([  0.,  10.,  20.,  30.,  40.,  50.,  60.,  70.,  80.,  90., 100.,\n",
       "        110., 120., 130., 140., 150.]),\n",
       " <BarContainer object of 15 artists>)"
      ]
     },
     "execution_count": 120,
     "metadata": {},
     "output_type": "execute_result"
    },
    {
     "data": {
      "image/png": "[encoded data removed]",
      "text/plain": [
       "<Figure size 432x288 with 1 Axes>"
      ]
     },
     "metadata": {
      "needs_background": "light"
     },
     "output_type": "display_data"
    }
   ],
   "source": [
    "plt.hist(data.popularity, bins = 15, range = (0,150))"
   ]
  },
  {
   "cell_type": "markdown",
   "metadata": {},
   "source": [
    "📝 **Which sklearn's scoring [metric](https://scikit-learn.org/stable/modules/model_evaluation.html) should we use if we want it to:**\n",
    "\n",
    "- Be better when greater (i.e. metric_good_model > metric_bad_model)\n",
    "- Penalize **more** an error between 10 and 20 compared with an error between 110 and 120\n",
    "- Said otherwise, what matter should be the **relative error ratio**, more than the absolute error difference\n",
    "\n",
    "Hint: the histogram plotted above should give you some intuition about it\n",
    "\n",
    "👉 Store its exact [sklearn scoring name](https://scikit-learn.org/stable/modules/model_evaluation.html) as `string` in the variable `scoring` below.\n",
    "\n",
    "🚨 You must use this metric for the rest of the challenge"
   ]
  },
  {
   "cell_type": "code",
   "execution_count": 121,
   "metadata": {
    "ExecuteTime": {
     "end_time": "2021-06-30T11:53:22.415237Z",
     "start_time": "2021-06-30T11:53:22.412618Z"
    },
    "slideshow": {
     "slide_type": "notes"
    },
    "tags": [
     "challengify"
    ]
   },
   "outputs": [],
   "source": [
    "# YOUR CODE HERE\n",
    "scoring = 'neg_root_mean_squared_error'"
   ]
  },
  {
   "cell_type": "markdown",
   "metadata": {},
   "source": [
    "<details>\n",
    "    <summary>💡 Hint</summary>\n",
    "It is around here!\n",
    "<img src=\"scores.jpg\" width=200 height=400 />\n",
    "</details>"
   ]
  },
  {
   "cell_type": "markdown",
   "metadata": {},
   "source": [
    "### X,y"
   ]
  },
  {
   "cell_type": "markdown",
   "metadata": {},
   "source": [
    "**📝 Define `X` as the features Dataframe (keep all features) and `y` as the target Series.**"
   ]
  },
  {
   "cell_type": "code",
   "execution_count": 122,
   "metadata": {
    "ExecuteTime": {
     "end_time": "2021-06-30T11:53:22.423028Z",
     "start_time": "2021-06-30T11:53:22.418850Z"
    },
    "tags": [
     "challengify"
    ]
   },
   "outputs": [],
   "source": [
    "X = data.drop(columns = 'popularity')\n",
    "y = data.popularity"
   ]
  },
  {
   "cell_type": "markdown",
   "metadata": {},
   "source": [
    "### Basic pipeline"
   ]
  },
  {
   "cell_type": "markdown",
   "metadata": {},
   "source": [
    "📝 **Check unique values per features**"
   ]
  },
  {
   "cell_type": "code",
   "execution_count": 123,
   "metadata": {
    "ExecuteTime": {
     "end_time": "2021-06-30T11:53:22.444921Z",
     "start_time": "2021-06-30T11:53:22.426268Z"
    }
   },
   "outputs": [
    {
     "name": "stdout",
     "output_type": "stream",
     "text": [
      "6350\n",
      "6337\n",
      "4320\n",
      "152\n",
      "6449\n",
      "636\n",
      "42\n",
      "3\n",
      "124\n",
      "180\n",
      "2\n",
      "745\n",
      "320\n",
      "5\n",
      "2\n"
     ]
    }
   ],
   "source": [
    "for col in X.columns:\n",
    "    print(len(X[col].unique()))"
   ]
  },
  {
   "cell_type": "markdown",
   "metadata": {},
   "source": [
    "In this baseline, let's forget about the columns below that are difficult to process"
   ]
  },
  {
   "cell_type": "code",
   "execution_count": 124,
   "metadata": {
    "ExecuteTime": {
     "end_time": "2021-06-30T11:53:22.449243Z",
     "start_time": "2021-06-30T11:53:22.446775Z"
    }
   },
   "outputs": [],
   "source": [
    "text = ['description', 'original_title', 'title']\n",
    "dates = ['release_date'] "
   ]
  },
  {
   "cell_type": "markdown",
   "metadata": {},
   "source": [
    "We will simply scale the numerical features and one-hot-encode the categorical ones remaining\n",
    "\n",
    "📝 **Prepare 2 `list`s of features names as `str`**:\n",
    "- `numerical` which contains **only** numerical features\n",
    "- `categorical` which contains **only** categorical features (exept text and dates above)"
   ]
  },
  {
   "cell_type": "code",
   "execution_count": 125,
   "metadata": {
    "ExecuteTime": {
     "end_time": "2021-06-30T11:53:22.454061Z",
     "start_time": "2021-06-30T11:53:22.451294Z"
    }
   },
   "outputs": [],
   "source": [
    "numerical = ['duration_min','budget','number_of_awards_won','number_of_nominations','has_collection',\\\n",
    "             'number_of_top_productions']\n",
    "categorical = ['original_language','status','all_genres','top_countries','available_in_english']"
   ]
  },
  {
   "cell_type": "markdown",
   "metadata": {},
   "source": [
    "### Pipelining\n",
    "\n",
    "You are going to build a basic pipeline made of a basic preprocessing and a trees-based model of your choice."
   ]
  },
  {
   "cell_type": "markdown",
   "metadata": {},
   "source": [
    "#### Preprocessing pipeline\n",
    "\n",
    "**📝 Create a basic preprocessing pipeline for the 2 types of features above:**\n",
    "- It should scale the `numerical` features\n",
    "- one-hot-encode the `categorical` and `boolean` features\n",
    "- drop the others\n",
    "- Store your pipeline in a `basic_preprocessing` variable"
   ]
  },
  {
   "cell_type": "code",
   "execution_count": 126,
   "metadata": {
    "ExecuteTime": {
     "end_time": "2021-06-30T11:53:22.458252Z",
     "start_time": "2021-06-30T11:53:22.455991Z"
    }
   },
   "outputs": [],
   "source": [
    "# Execute this cell to enable a nice display for your pipelines\n",
    "from sklearn import set_config; set_config(display='diagram')"
   ]
  },
  {
   "cell_type": "code",
   "execution_count": 127,
   "metadata": {
    "ExecuteTime": {
     "end_time": "2021-06-30T11:53:22.470358Z",
     "start_time": "2021-06-30T11:53:22.460582Z"
    },
    "tags": [
     "challengify"
    ]
   },
   "outputs": [
    {
     "data": {
      "text/html": [
       "<style>div.sk-top-container {color: black;background-color: white;}div.sk-toggleable {background-color: white;}label.sk-toggleable__label {cursor: pointer;display: block;width: 100%;margin-bottom: 0;padding: 0.2em 0.3em;box-sizing: border-box;text-align: center;}div.sk-toggleable__content {max-height: 0;max-width: 0;overflow: hidden;text-align: left;background-color: #f0f8ff;}div.sk-toggleable__content pre {margin: 0.2em;color: black;border-radius: 0.25em;background-color: #f0f8ff;}input.sk-toggleable__control:checked~div.sk-toggleable__content {max-height: 200px;max-width: 100%;overflow: auto;}div.sk-estimator input.sk-toggleable__control:checked~label.sk-toggleable__label {background-color: #d4ebff;}div.sk-label input.sk-toggleable__control:checked~label.sk-toggleable__label {background-color: #d4ebff;}input.sk-hidden--visually {border: 0;clip: rect(1px 1px 1px 1px);clip: rect(1px, 1px, 1px, 1px);height: 1px;margin: -1px;overflow: hidden;padding: 0;position: absolute;width: 1px;}div.sk-estimator {font-family: monospace;background-color: #f0f8ff;margin: 0.25em 0.25em;border: 1px dotted black;border-radius: 0.25em;box-sizing: border-box;}div.sk-estimator:hover {background-color: #d4ebff;}div.sk-parallel-item::after {content: \"\";width: 100%;border-bottom: 1px solid gray;flex-grow: 1;}div.sk-label:hover label.sk-toggleable__label {background-color: #d4ebff;}div.sk-serial::before {content: \"\";position: absolute;border-left: 1px solid gray;box-sizing: border-box;top: 2em;bottom: 0;left: 50%;}div.sk-serial {display: flex;flex-direction: column;align-items: center;background-color: white;}div.sk-item {z-index: 1;}div.sk-parallel {display: flex;align-items: stretch;justify-content: center;background-color: white;}div.sk-parallel-item {display: flex;flex-direction: column;position: relative;background-color: white;}div.sk-parallel-item:first-child::after {align-self: flex-end;width: 50%;}div.sk-parallel-item:last-child::after {align-self: flex-start;width: 50%;}div.sk-parallel-item:only-child::after {width: 0;}div.sk-dashed-wrapped {border: 1px dashed gray;margin: 0.2em;box-sizing: border-box;padding-bottom: 0.1em;background-color: white;position: relative;}div.sk-label label {font-family: monospace;font-weight: bold;background-color: white;display: inline-block;line-height: 1.2em;}div.sk-label-container {position: relative;z-index: 2;text-align: center;}div.sk-container {display: inline-block;position: relative;}</style><div class=\"sk-top-container\"><div class=\"sk-container\"><div class=\"sk-item sk-dashed-wrapped\"><div class=\"sk-label-container\"><div class=\"sk-label sk-toggleable\"><input class=\"sk-toggleable__control sk-hidden--visually\" id=\"6fc679ac-a3a3-4706-b473-bf32c74f0392\" type=\"checkbox\" ><label class=\"sk-toggleable__label\" for=\"6fc679ac-a3a3-4706-b473-bf32c74f0392\">ColumnTransformer</label><div class=\"sk-toggleable__content\"><pre>ColumnTransformer(transformers=[('num_transformer', RobustScaler(),\n",
       "                                 ['duration_min', 'budget',\n",
       "                                  'number_of_awards_won',\n",
       "                                  'number_of_nominations', 'has_collection',\n",
       "                                  'number_of_top_productions']),\n",
       "                                ('cat_transformer',\n",
       "                                 OneHotEncoder(handle_unknown='ignore',\n",
       "                                               sparse=False),\n",
       "                                 ['original_language', 'status', 'all_genres',\n",
       "                                  'top_countries', 'available_in_english'])])</pre></div></div></div><div class=\"sk-parallel\"><div class=\"sk-parallel-item\"><div class=\"sk-item\"><div class=\"sk-label-container\"><div class=\"sk-label sk-toggleable\"><input class=\"sk-toggleable__control sk-hidden--visually\" id=\"ffbe83bd-8e4a-4531-bd13-10a2738d169a\" type=\"checkbox\" ><label class=\"sk-toggleable__label\" for=\"ffbe83bd-8e4a-4531-bd13-10a2738d169a\">num_transformer</label><div class=\"sk-toggleable__content\"><pre>['duration_min', 'budget', 'number_of_awards_won', 'number_of_nominations', 'has_collection', 'number_of_top_productions']</pre></div></div></div><div class=\"sk-serial\"><div class=\"sk-item\"><div class=\"sk-estimator sk-toggleable\"><input class=\"sk-toggleable__control sk-hidden--visually\" id=\"12ab3cc1-f089-43d9-99a8-5115d25e29e9\" type=\"checkbox\" ><label class=\"sk-toggleable__label\" for=\"12ab3cc1-f089-43d9-99a8-5115d25e29e9\">RobustScaler</label><div class=\"sk-toggleable__content\"><pre>RobustScaler()</pre></div></div></div></div></div></div><div class=\"sk-parallel-item\"><div class=\"sk-item\"><div class=\"sk-label-container\"><div class=\"sk-label sk-toggleable\"><input class=\"sk-toggleable__control sk-hidden--visually\" id=\"59265b00-0371-4c11-912b-4f54692e2378\" type=\"checkbox\" ><label class=\"sk-toggleable__label\" for=\"59265b00-0371-4c11-912b-4f54692e2378\">cat_transformer</label><div class=\"sk-toggleable__content\"><pre>['original_language', 'status', 'all_genres', 'top_countries', 'available_in_english']</pre></div></div></div><div class=\"sk-serial\"><div class=\"sk-item\"><div class=\"sk-estimator sk-toggleable\"><input class=\"sk-toggleable__control sk-hidden--visually\" id=\"21ea9ff0-10a9-4ed6-bb60-d0be91c789d4\" type=\"checkbox\" ><label class=\"sk-toggleable__label\" for=\"21ea9ff0-10a9-4ed6-bb60-d0be91c789d4\">OneHotEncoder</label><div class=\"sk-toggleable__content\"><pre>OneHotEncoder(handle_unknown='ignore', sparse=False)</pre></div></div></div></div></div></div></div></div></div></div>"
      ],
      "text/plain": [
       "ColumnTransformer(transformers=[('num_transformer', RobustScaler(),\n",
       "                                 ['duration_min', 'budget',\n",
       "                                  'number_of_awards_won',\n",
       "                                  'number_of_nominations', 'has_collection',\n",
       "                                  'number_of_top_productions']),\n",
       "                                ('cat_transformer',\n",
       "                                 OneHotEncoder(handle_unknown='ignore',\n",
       "                                               sparse=False),\n",
       "                                 ['original_language', 'status', 'all_genres',\n",
       "                                  'top_countries', 'available_in_english'])])"
      ]
     },
     "execution_count": 127,
     "metadata": {},
     "output_type": "execute_result"
    }
   ],
   "source": [
    "# YOUR CODE HERE\n",
    "from sklearn.pipeline import Pipeline\n",
    "from sklearn.preprocessing import OneHotEncoder\n",
    "from sklearn.preprocessing import RobustScaler\n",
    "from sklearn.compose import ColumnTransformer\n",
    "\n",
    "basic_preprocessing = ColumnTransformer([\n",
    "    ('num_transformer', RobustScaler(), numerical),\n",
    "    ('cat_transformer', OneHotEncoder(handle_unknown='ignore', sparse = False), categorical)])\n",
    "basic_preprocessing"
   ]
  },
  {
   "cell_type": "markdown",
   "metadata": {},
   "source": [
    "**📝 Encode the features and store the result in the variable `X_basic_preprocessing`.**"
   ]
  },
  {
   "cell_type": "code",
   "execution_count": 128,
   "metadata": {
    "ExecuteTime": {
     "end_time": "2021-06-30T11:53:22.582201Z",
     "start_time": "2021-06-30T11:53:22.472323Z"
    },
    "tags": [
     "challengify"
    ]
   },
   "outputs": [
    {
     "data": {
      "text/html": [
       "<div>\n",
       "<style scoped>\n",
       "    .dataframe tbody tr th:only-of-type {\n",
       "        vertical-align: middle;\n",
       "    }\n",
       "\n",
       "    .dataframe tbody tr th {\n",
       "        vertical-align: top;\n",
       "    }\n",
       "\n",
       "    .dataframe thead th {\n",
       "        text-align: right;\n",
       "    }\n",
       "</style>\n",
       "<table border=\"1\" class=\"dataframe\">\n",
       "  <thead>\n",
       "    <tr style=\"text-align: right;\">\n",
       "      <th></th>\n",
       "      <th>0</th>\n",
       "      <th>1</th>\n",
       "      <th>2</th>\n",
       "      <th>3</th>\n",
       "      <th>4</th>\n",
       "      <th>5</th>\n",
       "      <th>6</th>\n",
       "      <th>7</th>\n",
       "      <th>8</th>\n",
       "      <th>9</th>\n",
       "      <th>...</th>\n",
       "      <th>1108</th>\n",
       "      <th>1109</th>\n",
       "      <th>1110</th>\n",
       "      <th>1111</th>\n",
       "      <th>1112</th>\n",
       "      <th>1113</th>\n",
       "      <th>1114</th>\n",
       "      <th>1115</th>\n",
       "      <th>1116</th>\n",
       "      <th>1117</th>\n",
       "    </tr>\n",
       "  </thead>\n",
       "  <tbody>\n",
       "    <tr>\n",
       "      <th>0</th>\n",
       "      <td>-0.500000</td>\n",
       "      <td>0.094251</td>\n",
       "      <td>-0.333333</td>\n",
       "      <td>-0.250000</td>\n",
       "      <td>1.0</td>\n",
       "      <td>2.0</td>\n",
       "      <td>0.0</td>\n",
       "      <td>0.0</td>\n",
       "      <td>0.0</td>\n",
       "      <td>0.0</td>\n",
       "      <td>...</td>\n",
       "      <td>0.0</td>\n",
       "      <td>0.0</td>\n",
       "      <td>0.0</td>\n",
       "      <td>0.0</td>\n",
       "      <td>0.0</td>\n",
       "      <td>0.0</td>\n",
       "      <td>1.0</td>\n",
       "      <td>0.0</td>\n",
       "      <td>0.0</td>\n",
       "      <td>1.0</td>\n",
       "    </tr>\n",
       "    <tr>\n",
       "      <th>1</th>\n",
       "      <td>0.333333</td>\n",
       "      <td>0.911094</td>\n",
       "      <td>-0.166667</td>\n",
       "      <td>-0.250000</td>\n",
       "      <td>1.0</td>\n",
       "      <td>0.0</td>\n",
       "      <td>0.0</td>\n",
       "      <td>0.0</td>\n",
       "      <td>0.0</td>\n",
       "      <td>0.0</td>\n",
       "      <td>...</td>\n",
       "      <td>0.0</td>\n",
       "      <td>0.0</td>\n",
       "      <td>0.0</td>\n",
       "      <td>0.0</td>\n",
       "      <td>0.0</td>\n",
       "      <td>0.0</td>\n",
       "      <td>1.0</td>\n",
       "      <td>0.0</td>\n",
       "      <td>0.0</td>\n",
       "      <td>1.0</td>\n",
       "    </tr>\n",
       "    <tr>\n",
       "      <th>2</th>\n",
       "      <td>0.000000</td>\n",
       "      <td>-0.241911</td>\n",
       "      <td>15.833333</td>\n",
       "      <td>11.666667</td>\n",
       "      <td>0.0</td>\n",
       "      <td>-1.0</td>\n",
       "      <td>0.0</td>\n",
       "      <td>0.0</td>\n",
       "      <td>0.0</td>\n",
       "      <td>0.0</td>\n",
       "      <td>...</td>\n",
       "      <td>0.0</td>\n",
       "      <td>0.0</td>\n",
       "      <td>0.0</td>\n",
       "      <td>0.0</td>\n",
       "      <td>0.0</td>\n",
       "      <td>0.0</td>\n",
       "      <td>1.0</td>\n",
       "      <td>0.0</td>\n",
       "      <td>0.0</td>\n",
       "      <td>1.0</td>\n",
       "    </tr>\n",
       "    <tr>\n",
       "      <th>3</th>\n",
       "      <td>0.708333</td>\n",
       "      <td>-0.307887</td>\n",
       "      <td>3.500000</td>\n",
       "      <td>1.083333</td>\n",
       "      <td>0.0</td>\n",
       "      <td>-1.0</td>\n",
       "      <td>0.0</td>\n",
       "      <td>0.0</td>\n",
       "      <td>0.0</td>\n",
       "      <td>0.0</td>\n",
       "      <td>...</td>\n",
       "      <td>0.0</td>\n",
       "      <td>0.0</td>\n",
       "      <td>0.0</td>\n",
       "      <td>0.0</td>\n",
       "      <td>0.0</td>\n",
       "      <td>0.0</td>\n",
       "      <td>0.0</td>\n",
       "      <td>0.0</td>\n",
       "      <td>0.0</td>\n",
       "      <td>1.0</td>\n",
       "    </tr>\n",
       "    <tr>\n",
       "      <th>4</th>\n",
       "      <td>-0.541667</td>\n",
       "      <td>0.094251</td>\n",
       "      <td>-0.333333</td>\n",
       "      <td>0.083333</td>\n",
       "      <td>0.0</td>\n",
       "      <td>-1.0</td>\n",
       "      <td>0.0</td>\n",
       "      <td>0.0</td>\n",
       "      <td>0.0</td>\n",
       "      <td>0.0</td>\n",
       "      <td>...</td>\n",
       "      <td>0.0</td>\n",
       "      <td>0.0</td>\n",
       "      <td>0.0</td>\n",
       "      <td>0.0</td>\n",
       "      <td>0.0</td>\n",
       "      <td>0.0</td>\n",
       "      <td>0.0</td>\n",
       "      <td>0.0</td>\n",
       "      <td>0.0</td>\n",
       "      <td>1.0</td>\n",
       "    </tr>\n",
       "    <tr>\n",
       "      <th>...</th>\n",
       "      <td>...</td>\n",
       "      <td>...</td>\n",
       "      <td>...</td>\n",
       "      <td>...</td>\n",
       "      <td>...</td>\n",
       "      <td>...</td>\n",
       "      <td>...</td>\n",
       "      <td>...</td>\n",
       "      <td>...</td>\n",
       "      <td>...</td>\n",
       "      <td>...</td>\n",
       "      <td>...</td>\n",
       "      <td>...</td>\n",
       "      <td>...</td>\n",
       "      <td>...</td>\n",
       "      <td>...</td>\n",
       "      <td>...</td>\n",
       "      <td>...</td>\n",
       "      <td>...</td>\n",
       "      <td>...</td>\n",
       "      <td>...</td>\n",
       "    </tr>\n",
       "    <tr>\n",
       "      <th>6858</th>\n",
       "      <td>-0.750000</td>\n",
       "      <td>0.439838</td>\n",
       "      <td>-0.333333</td>\n",
       "      <td>0.083333</td>\n",
       "      <td>0.0</td>\n",
       "      <td>0.0</td>\n",
       "      <td>0.0</td>\n",
       "      <td>0.0</td>\n",
       "      <td>0.0</td>\n",
       "      <td>0.0</td>\n",
       "      <td>...</td>\n",
       "      <td>0.0</td>\n",
       "      <td>0.0</td>\n",
       "      <td>0.0</td>\n",
       "      <td>0.0</td>\n",
       "      <td>0.0</td>\n",
       "      <td>0.0</td>\n",
       "      <td>1.0</td>\n",
       "      <td>0.0</td>\n",
       "      <td>0.0</td>\n",
       "      <td>1.0</td>\n",
       "    </tr>\n",
       "    <tr>\n",
       "      <th>6859</th>\n",
       "      <td>0.250000</td>\n",
       "      <td>0.754008</td>\n",
       "      <td>-0.333333</td>\n",
       "      <td>-0.333333</td>\n",
       "      <td>0.0</td>\n",
       "      <td>-1.0</td>\n",
       "      <td>0.0</td>\n",
       "      <td>0.0</td>\n",
       "      <td>0.0</td>\n",
       "      <td>0.0</td>\n",
       "      <td>...</td>\n",
       "      <td>0.0</td>\n",
       "      <td>0.0</td>\n",
       "      <td>0.0</td>\n",
       "      <td>0.0</td>\n",
       "      <td>0.0</td>\n",
       "      <td>0.0</td>\n",
       "      <td>1.0</td>\n",
       "      <td>0.0</td>\n",
       "      <td>0.0</td>\n",
       "      <td>1.0</td>\n",
       "    </tr>\n",
       "    <tr>\n",
       "      <th>6860</th>\n",
       "      <td>-0.583333</td>\n",
       "      <td>-0.345587</td>\n",
       "      <td>-0.333333</td>\n",
       "      <td>-0.416667</td>\n",
       "      <td>0.0</td>\n",
       "      <td>-1.0</td>\n",
       "      <td>0.0</td>\n",
       "      <td>0.0</td>\n",
       "      <td>0.0</td>\n",
       "      <td>0.0</td>\n",
       "      <td>...</td>\n",
       "      <td>0.0</td>\n",
       "      <td>0.0</td>\n",
       "      <td>0.0</td>\n",
       "      <td>0.0</td>\n",
       "      <td>0.0</td>\n",
       "      <td>0.0</td>\n",
       "      <td>1.0</td>\n",
       "      <td>0.0</td>\n",
       "      <td>0.0</td>\n",
       "      <td>1.0</td>\n",
       "    </tr>\n",
       "    <tr>\n",
       "      <th>6861</th>\n",
       "      <td>1.833333</td>\n",
       "      <td>-0.015709</td>\n",
       "      <td>2.333333</td>\n",
       "      <td>0.500000</td>\n",
       "      <td>1.0</td>\n",
       "      <td>0.0</td>\n",
       "      <td>0.0</td>\n",
       "      <td>0.0</td>\n",
       "      <td>0.0</td>\n",
       "      <td>0.0</td>\n",
       "      <td>...</td>\n",
       "      <td>0.0</td>\n",
       "      <td>0.0</td>\n",
       "      <td>0.0</td>\n",
       "      <td>0.0</td>\n",
       "      <td>0.0</td>\n",
       "      <td>1.0</td>\n",
       "      <td>0.0</td>\n",
       "      <td>0.0</td>\n",
       "      <td>0.0</td>\n",
       "      <td>1.0</td>\n",
       "    </tr>\n",
       "    <tr>\n",
       "      <th>6862</th>\n",
       "      <td>-0.375000</td>\n",
       "      <td>1.539434</td>\n",
       "      <td>-0.166667</td>\n",
       "      <td>-0.250000</td>\n",
       "      <td>0.0</td>\n",
       "      <td>0.0</td>\n",
       "      <td>0.0</td>\n",
       "      <td>0.0</td>\n",
       "      <td>0.0</td>\n",
       "      <td>0.0</td>\n",
       "      <td>...</td>\n",
       "      <td>0.0</td>\n",
       "      <td>0.0</td>\n",
       "      <td>0.0</td>\n",
       "      <td>0.0</td>\n",
       "      <td>0.0</td>\n",
       "      <td>1.0</td>\n",
       "      <td>0.0</td>\n",
       "      <td>0.0</td>\n",
       "      <td>0.0</td>\n",
       "      <td>1.0</td>\n",
       "    </tr>\n",
       "  </tbody>\n",
       "</table>\n",
       "<p>6863 rows × 1118 columns</p>\n",
       "</div>"
      ],
      "text/plain": [
       "          0         1          2          3     4     5     6     7     8     \\\n",
       "0    -0.500000  0.094251  -0.333333  -0.250000   1.0   2.0   0.0   0.0   0.0   \n",
       "1     0.333333  0.911094  -0.166667  -0.250000   1.0   0.0   0.0   0.0   0.0   \n",
       "2     0.000000 -0.241911  15.833333  11.666667   0.0  -1.0   0.0   0.0   0.0   \n",
       "3     0.708333 -0.307887   3.500000   1.083333   0.0  -1.0   0.0   0.0   0.0   \n",
       "4    -0.541667  0.094251  -0.333333   0.083333   0.0  -1.0   0.0   0.0   0.0   \n",
       "...        ...       ...        ...        ...   ...   ...   ...   ...   ...   \n",
       "6858 -0.750000  0.439838  -0.333333   0.083333   0.0   0.0   0.0   0.0   0.0   \n",
       "6859  0.250000  0.754008  -0.333333  -0.333333   0.0  -1.0   0.0   0.0   0.0   \n",
       "6860 -0.583333 -0.345587  -0.333333  -0.416667   0.0  -1.0   0.0   0.0   0.0   \n",
       "6861  1.833333 -0.015709   2.333333   0.500000   1.0   0.0   0.0   0.0   0.0   \n",
       "6862 -0.375000  1.539434  -0.166667  -0.250000   0.0   0.0   0.0   0.0   0.0   \n",
       "\n",
       "      9     ...  1108  1109  1110  1111  1112  1113  1114  1115  1116  1117  \n",
       "0      0.0  ...   0.0   0.0   0.0   0.0   0.0   0.0   1.0   0.0   0.0   1.0  \n",
       "1      0.0  ...   0.0   0.0   0.0   0.0   0.0   0.0   1.0   0.0   0.0   1.0  \n",
       "2      0.0  ...   0.0   0.0   0.0   0.0   0.0   0.0   1.0   0.0   0.0   1.0  \n",
       "3      0.0  ...   0.0   0.0   0.0   0.0   0.0   0.0   0.0   0.0   0.0   1.0  \n",
       "4      0.0  ...   0.0   0.0   0.0   0.0   0.0   0.0   0.0   0.0   0.0   1.0  \n",
       "...    ...  ...   ...   ...   ...   ...   ...   ...   ...   ...   ...   ...  \n",
       "6858   0.0  ...   0.0   0.0   0.0   0.0   0.0   0.0   1.0   0.0   0.0   1.0  \n",
       "6859   0.0  ...   0.0   0.0   0.0   0.0   0.0   0.0   1.0   0.0   0.0   1.0  \n",
       "6860   0.0  ...   0.0   0.0   0.0   0.0   0.0   0.0   1.0   0.0   0.0   1.0  \n",
       "6861   0.0  ...   0.0   0.0   0.0   0.0   0.0   1.0   0.0   0.0   0.0   1.0  \n",
       "6862   0.0  ...   0.0   0.0   0.0   0.0   0.0   1.0   0.0   0.0   0.0   1.0  \n",
       "\n",
       "[6863 rows x 1118 columns]"
      ]
     },
     "execution_count": 128,
     "metadata": {},
     "output_type": "execute_result"
    }
   ],
   "source": [
    "X_basic_preprocessing = basic_preprocessing.fit_transform(X)\n",
    "pd.DataFrame(X_basic_preprocessing)"
   ]
  },
  {
   "cell_type": "markdown",
   "metadata": {},
   "source": [
    "**❓ How many features has been generated by the preprocessing? What do you think about this number?**"
   ]
  },
  {
   "cell_type": "markdown",
   "metadata": {
    "tags": [
     "challengify"
    ]
   },
   "source": [
    "> 1118 features have been generated. This is a high number, explained by the fact that the categorical features are numerous, with a lot of unique values to them."
   ]
  },
  {
   "cell_type": "markdown",
   "metadata": {},
   "source": [
    "#### Modeling pipeline\n",
    "\n",
    "Let's add a model to our pipe. With so many features one-hot-encoded, we **need a model which can act as a feature selector**\n",
    "\n",
    "👉 A linear model regularized with L1 penalty is a good starting point.\n",
    "\n",
    "\n",
    "**📝 Create a `basic_pipeline` which encapsulate the `basic_preprocessing` pipeline + a linear model with a L1 penalty**\n",
    "\n",
    "- store the resulting pipeline as `basic_pipeline`\n",
    "- don't fine-tune it\n",
    "\n",
    "\n",
    "<details>\n",
    "    <summary>Hints</summary>\n",
    "\n",
    "Choose your model from the list [here](https://scikit-learn.org/stable/modules/classes.html#module-sklearn.linear_model)\n",
    "\n",
    "</details>"
   ]
  },
  {
   "cell_type": "code",
   "execution_count": 129,
   "metadata": {
    "ExecuteTime": {
     "end_time": "2021-06-30T11:53:22.617942Z",
     "start_time": "2021-06-30T11:53:22.584527Z"
    },
    "tags": [
     "challengify"
    ]
   },
   "outputs": [
    {
     "data": {
      "text/html": [
       "<style>div.sk-top-container {color: black;background-color: white;}div.sk-toggleable {background-color: white;}label.sk-toggleable__label {cursor: pointer;display: block;width: 100%;margin-bottom: 0;padding: 0.2em 0.3em;box-sizing: border-box;text-align: center;}div.sk-toggleable__content {max-height: 0;max-width: 0;overflow: hidden;text-align: left;background-color: #f0f8ff;}div.sk-toggleable__content pre {margin: 0.2em;color: black;border-radius: 0.25em;background-color: #f0f8ff;}input.sk-toggleable__control:checked~div.sk-toggleable__content {max-height: 200px;max-width: 100%;overflow: auto;}div.sk-estimator input.sk-toggleable__control:checked~label.sk-toggleable__label {background-color: #d4ebff;}div.sk-label input.sk-toggleable__control:checked~label.sk-toggleable__label {background-color: #d4ebff;}input.sk-hidden--visually {border: 0;clip: rect(1px 1px 1px 1px);clip: rect(1px, 1px, 1px, 1px);height: 1px;margin: -1px;overflow: hidden;padding: 0;position: absolute;width: 1px;}div.sk-estimator {font-family: monospace;background-color: #f0f8ff;margin: 0.25em 0.25em;border: 1px dotted black;border-radius: 0.25em;box-sizing: border-box;}div.sk-estimator:hover {background-color: #d4ebff;}div.sk-parallel-item::after {content: \"\";width: 100%;border-bottom: 1px solid gray;flex-grow: 1;}div.sk-label:hover label.sk-toggleable__label {background-color: #d4ebff;}div.sk-serial::before {content: \"\";position: absolute;border-left: 1px solid gray;box-sizing: border-box;top: 2em;bottom: 0;left: 50%;}div.sk-serial {display: flex;flex-direction: column;align-items: center;background-color: white;}div.sk-item {z-index: 1;}div.sk-parallel {display: flex;align-items: stretch;justify-content: center;background-color: white;}div.sk-parallel-item {display: flex;flex-direction: column;position: relative;background-color: white;}div.sk-parallel-item:first-child::after {align-self: flex-end;width: 50%;}div.sk-parallel-item:last-child::after {align-self: flex-start;width: 50%;}div.sk-parallel-item:only-child::after {width: 0;}div.sk-dashed-wrapped {border: 1px dashed gray;margin: 0.2em;box-sizing: border-box;padding-bottom: 0.1em;background-color: white;position: relative;}div.sk-label label {font-family: monospace;font-weight: bold;background-color: white;display: inline-block;line-height: 1.2em;}div.sk-label-container {position: relative;z-index: 2;text-align: center;}div.sk-container {display: inline-block;position: relative;}</style><div class=\"sk-top-container\"><div class=\"sk-container\"><div class=\"sk-item sk-dashed-wrapped\"><div class=\"sk-label-container\"><div class=\"sk-label sk-toggleable\"><input class=\"sk-toggleable__control sk-hidden--visually\" id=\"603b8251-fe7a-4966-94fa-ddffce5a6738\" type=\"checkbox\" ><label class=\"sk-toggleable__label\" for=\"603b8251-fe7a-4966-94fa-ddffce5a6738\">Pipeline</label><div class=\"sk-toggleable__content\"><pre>Pipeline(steps=[('preprocessing',\n",
       "                 ColumnTransformer(transformers=[('num_transformer',\n",
       "                                                  RobustScaler(),\n",
       "                                                  ['duration_min', 'budget',\n",
       "                                                   'number_of_awards_won',\n",
       "                                                   'number_of_nominations',\n",
       "                                                   'has_collection',\n",
       "                                                   'number_of_top_productions']),\n",
       "                                                 ('cat_transformer',\n",
       "                                                  OneHotEncoder(handle_unknown='ignore',\n",
       "                                                                sparse=False),\n",
       "                                                  ['original_language',\n",
       "                                                   'status', 'all_genres',\n",
       "                                                   'top_countries',\n",
       "                                                   'available_in_english'])])),\n",
       "                ('linear_regression', Lasso())])</pre></div></div></div><div class=\"sk-serial\"><div class=\"sk-item sk-dashed-wrapped\"><div class=\"sk-label-container\"><div class=\"sk-label sk-toggleable\"><input class=\"sk-toggleable__control sk-hidden--visually\" id=\"163ccf54-c12c-44e5-91c9-689edbdd77db\" type=\"checkbox\" ><label class=\"sk-toggleable__label\" for=\"163ccf54-c12c-44e5-91c9-689edbdd77db\">preprocessing: ColumnTransformer</label><div class=\"sk-toggleable__content\"><pre>ColumnTransformer(transformers=[('num_transformer', RobustScaler(),\n",
       "                                 ['duration_min', 'budget',\n",
       "                                  'number_of_awards_won',\n",
       "                                  'number_of_nominations', 'has_collection',\n",
       "                                  'number_of_top_productions']),\n",
       "                                ('cat_transformer',\n",
       "                                 OneHotEncoder(handle_unknown='ignore',\n",
       "                                               sparse=False),\n",
       "                                 ['original_language', 'status', 'all_genres',\n",
       "                                  'top_countries', 'available_in_english'])])</pre></div></div></div><div class=\"sk-parallel\"><div class=\"sk-parallel-item\"><div class=\"sk-item\"><div class=\"sk-label-container\"><div class=\"sk-label sk-toggleable\"><input class=\"sk-toggleable__control sk-hidden--visually\" id=\"8379bb56-96c6-4f78-8b8e-598fe8903e7b\" type=\"checkbox\" ><label class=\"sk-toggleable__label\" for=\"8379bb56-96c6-4f78-8b8e-598fe8903e7b\">num_transformer</label><div class=\"sk-toggleable__content\"><pre>['duration_min', 'budget', 'number_of_awards_won', 'number_of_nominations', 'has_collection', 'number_of_top_productions']</pre></div></div></div><div class=\"sk-serial\"><div class=\"sk-item\"><div class=\"sk-estimator sk-toggleable\"><input class=\"sk-toggleable__control sk-hidden--visually\" id=\"e8f8eab7-6f6d-4d0b-96fb-343b3f30afb2\" type=\"checkbox\" ><label class=\"sk-toggleable__label\" for=\"e8f8eab7-6f6d-4d0b-96fb-343b3f30afb2\">RobustScaler</label><div class=\"sk-toggleable__content\"><pre>RobustScaler()</pre></div></div></div></div></div></div><div class=\"sk-parallel-item\"><div class=\"sk-item\"><div class=\"sk-label-container\"><div class=\"sk-label sk-toggleable\"><input class=\"sk-toggleable__control sk-hidden--visually\" id=\"9c36e884-c6c9-4d5e-8060-2c09e7f0a2cf\" type=\"checkbox\" ><label class=\"sk-toggleable__label\" for=\"9c36e884-c6c9-4d5e-8060-2c09e7f0a2cf\">cat_transformer</label><div class=\"sk-toggleable__content\"><pre>['original_language', 'status', 'all_genres', 'top_countries', 'available_in_english']</pre></div></div></div><div class=\"sk-serial\"><div class=\"sk-item\"><div class=\"sk-estimator sk-toggleable\"><input class=\"sk-toggleable__control sk-hidden--visually\" id=\"aab5efb7-2940-49f7-8565-c3b8122efbfe\" type=\"checkbox\" ><label class=\"sk-toggleable__label\" for=\"aab5efb7-2940-49f7-8565-c3b8122efbfe\">OneHotEncoder</label><div class=\"sk-toggleable__content\"><pre>OneHotEncoder(handle_unknown='ignore', sparse=False)</pre></div></div></div></div></div></div></div></div><div class=\"sk-item\"><div class=\"sk-estimator sk-toggleable\"><input class=\"sk-toggleable__control sk-hidden--visually\" id=\"99e3adfe-63b4-4c81-9b4a-6c184c60a76f\" type=\"checkbox\" ><label class=\"sk-toggleable__label\" for=\"99e3adfe-63b4-4c81-9b4a-6c184c60a76f\">Lasso</label><div class=\"sk-toggleable__content\"><pre>Lasso()</pre></div></div></div></div></div></div></div>"
      ],
      "text/plain": [
       "Pipeline(steps=[('preprocessing',\n",
       "                 ColumnTransformer(transformers=[('num_transformer',\n",
       "                                                  RobustScaler(),\n",
       "                                                  ['duration_min', 'budget',\n",
       "                                                   'number_of_awards_won',\n",
       "                                                   'number_of_nominations',\n",
       "                                                   'has_collection',\n",
       "                                                   'number_of_top_productions']),\n",
       "                                                 ('cat_transformer',\n",
       "                                                  OneHotEncoder(handle_unknown='ignore',\n",
       "                                                                sparse=False),\n",
       "                                                  ['original_language',\n",
       "                                                   'status', 'all_genres',\n",
       "                                                   'top_countries',\n",
       "                                                   'available_in_english'])])),\n",
       "                ('linear_regression', Lasso())])"
      ]
     },
     "execution_count": 129,
     "metadata": {},
     "output_type": "execute_result"
    }
   ],
   "source": [
    "from sklearn.linear_model import Lasso\n",
    "\n",
    "basic_pipeline = Pipeline([\n",
    "    ('preprocessing', basic_preprocessing),\n",
    "    ('linear_regression', Lasso())])\n",
    "basic_pipeline"
   ]
  },
  {
   "cell_type": "markdown",
   "metadata": {},
   "source": [
    "### Cross-validated baseline\n",
    "\n",
    "**📝 Perform a cross-validated evaluation of your baseline model using the metric you defined above. Store the results of this evaluation as an `array` of floating scores in the `basic_scores` variable.**"
   ]
  },
  {
   "cell_type": "code",
   "execution_count": 130,
   "metadata": {
    "ExecuteTime": {
     "end_time": "2021-06-30T11:53:23.829606Z",
     "start_time": "2021-06-30T11:53:22.620239Z"
    }
   },
   "outputs": [
    {
     "data": {
      "text/plain": [
       "array([-12.02027363, -11.03857653,  -7.98013915, -10.27921769,\n",
       "       -17.34017496])"
      ]
     },
     "execution_count": 130,
     "metadata": {},
     "output_type": "execute_result"
    }
   ],
   "source": [
    "from sklearn.model_selection import cross_val_score\n",
    "from sklearn.model_selection import train_test_split\n",
    "\n",
    "X_train, X_test, y_train, y_test = train_test_split(X,y, test_size=0.3)\n",
    "basic_scores = cross_val_score(basic_pipeline, X, y, cv=5, scoring='neg_root_mean_squared_error')\n",
    "\n",
    "basic_scores"
   ]
  },
  {
   "cell_type": "markdown",
   "metadata": {},
   "source": [
    "### 🧪 Save your results\n",
    "\n",
    "Run the following cell to save your results"
   ]
  },
  {
   "cell_type": "code",
   "execution_count": 131,
   "metadata": {
    "ExecuteTime": {
     "end_time": "2021-06-30T11:53:23.836576Z",
     "start_time": "2021-06-30T11:53:23.832066Z"
    }
   },
   "outputs": [],
   "source": [
    "ChallengeResult(\n",
    "    'baseline',\n",
    "    metric=scoring,\n",
    "    features=[categorical,numerical],\n",
    "    preproc=basic_preprocessing,\n",
    "    preproc_shape=X_basic_preprocessing.shape,\n",
    "    pipe=basic_pipeline,\n",
    "    scores=basic_scores\n",
    ").write()"
   ]
  },
  {
   "cell_type": "markdown",
   "metadata": {},
   "source": [
    "## Feature engineering"
   ]
  },
  {
   "cell_type": "markdown",
   "metadata": {},
   "source": [
    "### Time Features\n",
    "\n",
    "\n",
    "👉 Let's try to improve performance using the feature `release_date`, and especially its `month` and `year`.\n",
    "\n",
    "ℹ️ If you want to skip this section, you can move directly to the next one: _Advanced categorical features_."
   ]
  },
  {
   "cell_type": "markdown",
   "metadata": {},
   "source": [
    "**📝 Complete the custom transformer `TimeFeaturesExtractor` below**\n",
    "\n",
    "Running\n",
    "```python\n",
    "TimeFeaturesExtractor().fit_transform(X[['release_date']])\n",
    "``` \n",
    "should return something like\n",
    "\n",
    "|    |   month |   year |\n",
    "|---:|--------:|-------:|\n",
    "|  0 |       2 |   2015 |\n",
    "|  1 |       8 |   2004 |\n",
    "|  2 |      10 |   2014 |\n",
    "|  3 |       3 |   2012 |\n",
    "|  4 |       8 |   2012 |\n"
   ]
  },
  {
   "cell_type": "code",
   "execution_count": 132,
   "metadata": {
    "ExecuteTime": {
     "end_time": "2021-06-30T11:53:23.844183Z",
     "start_time": "2021-06-30T11:53:23.839092Z"
    }
   },
   "outputs": [],
   "source": [
    "from sklearn.base import BaseEstimator, TransformerMixin\n",
    "\n",
    "class TimeFeaturesExtractor(BaseEstimator, TransformerMixin):\n",
    "    \"\"\"Extract the 2 time features from a date\"\"\"\n",
    "    \n",
    "    def fit(self, X, y=None):\n",
    "        return self\n",
    "    \n",
    "    def transform(self, X, y=None):\n",
    "        \"\"\"\n",
    "        Params:\n",
    "        X: DataFrame\n",
    "        y: Series\n",
    "        \n",
    "        Returns a DataFrame with 2 columns containing the time features as integers extracted from the release_date.\n",
    "        \"\"\"\n",
    "        res = pd.DataFrame()\n",
    "        res['month'] = pd.to_datetime(X.release_date, format='%Y-%m-%d').dt.month\n",
    "        res['year'] = pd.to_datetime(X.release_date, format='%Y-%m-%d').dt.year\n",
    "        \n",
    "        return res\n",
    "    \n",
    "    "
   ]
  },
  {
   "cell_type": "code",
   "execution_count": 133,
   "metadata": {
    "ExecuteTime": {
     "end_time": "2021-06-30T11:53:23.866546Z",
     "start_time": "2021-06-30T11:53:23.846933Z"
    }
   },
   "outputs": [
    {
     "data": {
      "text/html": [
       "<div>\n",
       "<style scoped>\n",
       "    .dataframe tbody tr th:only-of-type {\n",
       "        vertical-align: middle;\n",
       "    }\n",
       "\n",
       "    .dataframe tbody tr th {\n",
       "        vertical-align: top;\n",
       "    }\n",
       "\n",
       "    .dataframe thead th {\n",
       "        text-align: right;\n",
       "    }\n",
       "</style>\n",
       "<table border=\"1\" class=\"dataframe\">\n",
       "  <thead>\n",
       "    <tr style=\"text-align: right;\">\n",
       "      <th></th>\n",
       "      <th>month</th>\n",
       "      <th>year</th>\n",
       "    </tr>\n",
       "  </thead>\n",
       "  <tbody>\n",
       "    <tr>\n",
       "      <th>0</th>\n",
       "      <td>2</td>\n",
       "      <td>2015</td>\n",
       "    </tr>\n",
       "    <tr>\n",
       "      <th>1</th>\n",
       "      <td>8</td>\n",
       "      <td>2004</td>\n",
       "    </tr>\n",
       "    <tr>\n",
       "      <th>2</th>\n",
       "      <td>10</td>\n",
       "      <td>2014</td>\n",
       "    </tr>\n",
       "    <tr>\n",
       "      <th>3</th>\n",
       "      <td>3</td>\n",
       "      <td>2012</td>\n",
       "    </tr>\n",
       "    <tr>\n",
       "      <th>4</th>\n",
       "      <td>8</td>\n",
       "      <td>2012</td>\n",
       "    </tr>\n",
       "  </tbody>\n",
       "</table>\n",
       "</div>"
      ],
      "text/plain": [
       "   month  year\n",
       "0      2  2015\n",
       "1      8  2004\n",
       "2     10  2014\n",
       "3      3  2012\n",
       "4      8  2012"
      ]
     },
     "execution_count": 133,
     "metadata": {},
     "output_type": "execute_result"
    }
   ],
   "source": [
    "# Try your transformer and save your new features here\n",
    "X_time_features = TimeFeaturesExtractor().fit_transform(X[['release_date']])\n",
    "X_time_features.head()"
   ]
  },
  {
   "cell_type": "markdown",
   "metadata": {},
   "source": [
    "We still have 2 problems to solve\n",
    "- `month` is cyclical: 12 should be a close to 1 as to 11, right? \n",
    "- `year` is not scaled\n",
    "\n",
    "**📝 Build a final custom transformer `CyclicalEncoder` so that**\n",
    "\n",
    "Running\n",
    "```python\n",
    "CyclicalEncoder().fit_transform(X_time_features)\n",
    "``` \n",
    "should return something like this\n",
    "\n",
    "|    |    month_cos |   month_sin |      year |\n",
    "|---:|-------------:|------------:|----------:|\n",
    "|  0 |  0.5         |    0.866025 | 0.0466039 |\n",
    "|  1 | -0.5         |   -0.866025 | 0.0411502 |\n",
    "|  2 |  0.5         |   -0.866025 | 0.0461081 |\n",
    "|  3 |  6.12323e-17 |    1        | 0.0451165 |\n",
    "|  4 | -0.5         |   -0.866025 | 0.0451165 |\n",
    "\n",
    "With the cyclical encoding is done as below\n",
    "- `month_cos = np.cos(2 * math.pi / 12 * X[['month']]) `\n",
    "- `month_sin = np.sin(2 * math.pi / 12 * X[['month']]) `\n",
    "\n",
    "And the `year` begin min-max scaled"
   ]
  },
  {
   "cell_type": "code",
   "execution_count": 214,
   "metadata": {
    "ExecuteTime": {
     "end_time": "2021-06-30T12:52:49.236853Z",
     "start_time": "2021-06-30T12:52:49.228550Z"
    }
   },
   "outputs": [],
   "source": [
    "from sklearn.base import BaseEstimator, TransformerMixin\n",
    "from sklearn.preprocessing import MinMaxScaler\n",
    "import math\n",
    "\n",
    "class CyclicalEncoder(BaseEstimator, TransformerMixin):\n",
    "    \"\"\"\n",
    "    Encode a cyclical feature\n",
    "    \"\"\"\n",
    "    \n",
    "    def __init__(self):\n",
    "        pass\n",
    "\n",
    "    def fit(self, X, y=None):\n",
    "        \"\"\"\n",
    "        Compute here what you need for the transform phase and store it as instance variable\n",
    "        \"\"\"\n",
    "        return self\n",
    "\n",
    "    def transform(self, X, y=None):\n",
    "        \"\"\"\n",
    "        Compute and returns the final DataFrame\n",
    "        \"\"\"\n",
    "        minmax = MinMaxScaler()\n",
    "        res = pd.DataFrame()\n",
    "        res[['month_cos']] = pd.DataFrame(np.cos(2 * math.pi / 12 * X[['month']]))\n",
    "        res[['month_sin']] = pd.DataFrame(np.sin(2 * math.pi / 12 * X[['month']]))\n",
    "#        res[['year']] = pd.DataFrame(minmax.fit_transform(X[['year']]))\n",
    "        res['year'] = minmax.fit_transform(X[['year']])\n",
    "        \n",
    "        return res"
   ]
  },
  {
   "cell_type": "code",
   "execution_count": 215,
   "metadata": {
    "ExecuteTime": {
     "end_time": "2021-06-30T12:52:49.740562Z",
     "start_time": "2021-06-30T12:52:49.721376Z"
    }
   },
   "outputs": [
    {
     "data": {
      "text/html": [
       "<div>\n",
       "<style scoped>\n",
       "    .dataframe tbody tr th:only-of-type {\n",
       "        vertical-align: middle;\n",
       "    }\n",
       "\n",
       "    .dataframe tbody tr th {\n",
       "        vertical-align: top;\n",
       "    }\n",
       "\n",
       "    .dataframe thead th {\n",
       "        text-align: right;\n",
       "    }\n",
       "</style>\n",
       "<table border=\"1\" class=\"dataframe\">\n",
       "  <thead>\n",
       "    <tr style=\"text-align: right;\">\n",
       "      <th></th>\n",
       "      <th>month_cos</th>\n",
       "      <th>month_sin</th>\n",
       "      <th>year</th>\n",
       "    </tr>\n",
       "  </thead>\n",
       "  <tbody>\n",
       "    <tr>\n",
       "      <th>0</th>\n",
       "      <td>5.000000e-01</td>\n",
       "      <td>0.866025</td>\n",
       "      <td>0.979167</td>\n",
       "    </tr>\n",
       "    <tr>\n",
       "      <th>1</th>\n",
       "      <td>-5.000000e-01</td>\n",
       "      <td>-0.866025</td>\n",
       "      <td>0.864583</td>\n",
       "    </tr>\n",
       "    <tr>\n",
       "      <th>2</th>\n",
       "      <td>5.000000e-01</td>\n",
       "      <td>-0.866025</td>\n",
       "      <td>0.968750</td>\n",
       "    </tr>\n",
       "    <tr>\n",
       "      <th>3</th>\n",
       "      <td>6.123234e-17</td>\n",
       "      <td>1.000000</td>\n",
       "      <td>0.947917</td>\n",
       "    </tr>\n",
       "    <tr>\n",
       "      <th>4</th>\n",
       "      <td>-5.000000e-01</td>\n",
       "      <td>-0.866025</td>\n",
       "      <td>0.947917</td>\n",
       "    </tr>\n",
       "  </tbody>\n",
       "</table>\n",
       "</div>"
      ],
      "text/plain": [
       "      month_cos  month_sin      year\n",
       "0  5.000000e-01   0.866025  0.979167\n",
       "1 -5.000000e-01  -0.866025  0.864583\n",
       "2  5.000000e-01  -0.866025  0.968750\n",
       "3  6.123234e-17   1.000000  0.947917\n",
       "4 -5.000000e-01  -0.866025  0.947917"
      ]
     },
     "execution_count": 215,
     "metadata": {},
     "output_type": "execute_result"
    }
   ],
   "source": [
    "# Try your transformer and save your new features here\n",
    "X_time_cyclical = CyclicalEncoder().fit_transform(X_time_features)\n",
    "X_time_cyclical.head()"
   ]
  },
  {
   "cell_type": "code",
   "execution_count": 216,
   "metadata": {
    "ExecuteTime": {
     "end_time": "2021-06-30T12:52:52.404019Z",
     "start_time": "2021-06-30T12:52:52.230665Z"
    }
   },
   "outputs": [
    {
     "data": {
      "image/png": "[encoded data removed]",
      "text/plain": [
       "<Figure size 432x288 with 1 Axes>"
      ]
     },
     "metadata": {
      "needs_background": "light"
     },
     "output_type": "display_data"
    }
   ],
   "source": [
    "# Check that this form a circle with 12 points\n",
    "plt.scatter(X_time_cyclical['month_cos'],\n",
    "            X_time_cyclical['month_sin'])\n",
    "plt.xlabel(\"month_cos\"); plt.ylabel(\"month_sin\");"
   ]
  },
  {
   "cell_type": "markdown",
   "metadata": {},
   "source": [
    "**📝 Enhance your `basic_pipeline` with a new preprocessing including both `TimeFeaturesExtractor` and `CyclicalFeatureExtractor`:**\n",
    "\n",
    "- Just use `TimeFeatureExtractor` if you haven't had time to do the `Cyclical` one\n",
    "- Store this new pipeline as `time_pipeline`\n",
    "- Keep same estimator for now"
   ]
  },
  {
   "cell_type": "code",
   "execution_count": 217,
   "metadata": {
    "ExecuteTime": {
     "end_time": "2021-06-30T12:52:53.477524Z",
     "start_time": "2021-06-30T12:52:53.473890Z"
    }
   },
   "outputs": [],
   "source": [
    "from sklearn.pipeline import FeatureUnion"
   ]
  },
  {
   "cell_type": "code",
   "execution_count": 218,
   "metadata": {
    "ExecuteTime": {
     "end_time": "2021-06-30T12:52:54.335242Z",
     "start_time": "2021-06-30T12:52:53.998707Z"
    }
   },
   "outputs": [
    {
     "data": {
      "text/html": [
       "<style>div.sk-top-container {color: black;background-color: white;}div.sk-toggleable {background-color: white;}label.sk-toggleable__label {cursor: pointer;display: block;width: 100%;margin-bottom: 0;padding: 0.2em 0.3em;box-sizing: border-box;text-align: center;}div.sk-toggleable__content {max-height: 0;max-width: 0;overflow: hidden;text-align: left;background-color: #f0f8ff;}div.sk-toggleable__content pre {margin: 0.2em;color: black;border-radius: 0.25em;background-color: #f0f8ff;}input.sk-toggleable__control:checked~div.sk-toggleable__content {max-height: 200px;max-width: 100%;overflow: auto;}div.sk-estimator input.sk-toggleable__control:checked~label.sk-toggleable__label {background-color: #d4ebff;}div.sk-label input.sk-toggleable__control:checked~label.sk-toggleable__label {background-color: #d4ebff;}input.sk-hidden--visually {border: 0;clip: rect(1px 1px 1px 1px);clip: rect(1px, 1px, 1px, 1px);height: 1px;margin: -1px;overflow: hidden;padding: 0;position: absolute;width: 1px;}div.sk-estimator {font-family: monospace;background-color: #f0f8ff;margin: 0.25em 0.25em;border: 1px dotted black;border-radius: 0.25em;box-sizing: border-box;}div.sk-estimator:hover {background-color: #d4ebff;}div.sk-parallel-item::after {content: \"\";width: 100%;border-bottom: 1px solid gray;flex-grow: 1;}div.sk-label:hover label.sk-toggleable__label {background-color: #d4ebff;}div.sk-serial::before {content: \"\";position: absolute;border-left: 1px solid gray;box-sizing: border-box;top: 2em;bottom: 0;left: 50%;}div.sk-serial {display: flex;flex-direction: column;align-items: center;background-color: white;}div.sk-item {z-index: 1;}div.sk-parallel {display: flex;align-items: stretch;justify-content: center;background-color: white;}div.sk-parallel-item {display: flex;flex-direction: column;position: relative;background-color: white;}div.sk-parallel-item:first-child::after {align-self: flex-end;width: 50%;}div.sk-parallel-item:last-child::after {align-self: flex-start;width: 50%;}div.sk-parallel-item:only-child::after {width: 0;}div.sk-dashed-wrapped {border: 1px dashed gray;margin: 0.2em;box-sizing: border-box;padding-bottom: 0.1em;background-color: white;position: relative;}div.sk-label label {font-family: monospace;font-weight: bold;background-color: white;display: inline-block;line-height: 1.2em;}div.sk-label-container {position: relative;z-index: 2;text-align: center;}div.sk-container {display: inline-block;position: relative;}</style><div class=\"sk-top-container\"><div class=\"sk-container\"><div class=\"sk-item sk-dashed-wrapped\"><div class=\"sk-label-container\"><div class=\"sk-label sk-toggleable\"><input class=\"sk-toggleable__control sk-hidden--visually\" id=\"e8dc5e96-d5ae-478d-a46f-8c16cae76dcc\" type=\"checkbox\" ><label class=\"sk-toggleable__label\" for=\"e8dc5e96-d5ae-478d-a46f-8c16cae76dcc\">Pipeline</label><div class=\"sk-toggleable__content\"><pre>Pipeline(steps=[('preprocessing',\n",
       "                 FeatureUnion(transformer_list=[('preprocessing',\n",
       "                                                 ColumnTransformer(transformers=[('num_transformer',\n",
       "                                                                                  RobustScaler(),\n",
       "                                                                                  ['duration_min',\n",
       "                                                                                   'budget',\n",
       "                                                                                   'number_of_awards_won',\n",
       "                                                                                   'number_of_nominations',\n",
       "                                                                                   'has_collection',\n",
       "                                                                                   'number_of_top_productions']),\n",
       "                                                                                 ('cat_transformer',\n",
       "                                                                                  OneHotEncoder(handle_unknown='ignore',\n",
       "                                                                                                sparse=False),\n",
       "                                                                                  ['original_language',\n",
       "                                                                                   'status',\n",
       "                                                                                   'all_genres',\n",
       "                                                                                   'top_countries',\n",
       "                                                                                   'available_in_english'])])),\n",
       "                                                ('time_processing',\n",
       "                                                 Pipeline(steps=[('time',\n",
       "                                                                  TimeFeaturesExtractor()),\n",
       "                                                                 ('cycle',\n",
       "                                                                  CyclicalEncoder())]))])),\n",
       "                ('linear_regression', Lasso())])</pre></div></div></div><div class=\"sk-serial\"><div class=\"sk-item sk-dashed-wrapped\"><div class=\"sk-label-container\"><div class=\"sk-label sk-toggleable\"><input class=\"sk-toggleable__control sk-hidden--visually\" id=\"d3bcde4e-eabd-4a84-b47c-a81fbfae3d62\" type=\"checkbox\" ><label class=\"sk-toggleable__label\" for=\"d3bcde4e-eabd-4a84-b47c-a81fbfae3d62\">preprocessing: FeatureUnion</label><div class=\"sk-toggleable__content\"><pre>FeatureUnion(transformer_list=[('preprocessing',\n",
       "                                ColumnTransformer(transformers=[('num_transformer',\n",
       "                                                                 RobustScaler(),\n",
       "                                                                 ['duration_min',\n",
       "                                                                  'budget',\n",
       "                                                                  'number_of_awards_won',\n",
       "                                                                  'number_of_nominations',\n",
       "                                                                  'has_collection',\n",
       "                                                                  'number_of_top_productions']),\n",
       "                                                                ('cat_transformer',\n",
       "                                                                 OneHotEncoder(handle_unknown='ignore',\n",
       "                                                                               sparse=False),\n",
       "                                                                 ['original_language',\n",
       "                                                                  'status',\n",
       "                                                                  'all_genres',\n",
       "                                                                  'top_countries',\n",
       "                                                                  'available_in_english'])])),\n",
       "                               ('time_processing',\n",
       "                                Pipeline(steps=[('time',\n",
       "                                                 TimeFeaturesExtractor()),\n",
       "                                                ('cycle',\n",
       "                                                 CyclicalEncoder())]))])</pre></div></div></div><div class=\"sk-parallel\"><div class=\"sk-parallel-item\"><div class=\"sk-item\"><div class=\"sk-label-container\"><div class=\"sk-label sk-toggleable\"><label>preprocessing</label></div></div><div class=\"sk-serial\"><div class=\"sk-item sk-dashed-wrapped\"><div class=\"sk-parallel\"><div class=\"sk-parallel-item\"><div class=\"sk-item\"><div class=\"sk-label-container\"><div class=\"sk-label sk-toggleable\"><input class=\"sk-toggleable__control sk-hidden--visually\" id=\"a3c521e3-e8dd-4dba-8276-01f67e12193e\" type=\"checkbox\" ><label class=\"sk-toggleable__label\" for=\"a3c521e3-e8dd-4dba-8276-01f67e12193e\">num_transformer</label><div class=\"sk-toggleable__content\"><pre>['duration_min', 'budget', 'number_of_awards_won', 'number_of_nominations', 'has_collection', 'number_of_top_productions']</pre></div></div></div><div class=\"sk-serial\"><div class=\"sk-item\"><div class=\"sk-estimator sk-toggleable\"><input class=\"sk-toggleable__control sk-hidden--visually\" id=\"a748e603-c971-4e0d-9fda-175092f9004a\" type=\"checkbox\" ><label class=\"sk-toggleable__label\" for=\"a748e603-c971-4e0d-9fda-175092f9004a\">RobustScaler</label><div class=\"sk-toggleable__content\"><pre>RobustScaler()</pre></div></div></div></div></div></div><div class=\"sk-parallel-item\"><div class=\"sk-item\"><div class=\"sk-label-container\"><div class=\"sk-label sk-toggleable\"><input class=\"sk-toggleable__control sk-hidden--visually\" id=\"20074056-b04b-4a4f-98b6-9b285d6aa70b\" type=\"checkbox\" ><label class=\"sk-toggleable__label\" for=\"20074056-b04b-4a4f-98b6-9b285d6aa70b\">cat_transformer</label><div class=\"sk-toggleable__content\"><pre>['original_language', 'status', 'all_genres', 'top_countries', 'available_in_english']</pre></div></div></div><div class=\"sk-serial\"><div class=\"sk-item\"><div class=\"sk-estimator sk-toggleable\"><input class=\"sk-toggleable__control sk-hidden--visually\" id=\"24ecfba7-8208-4090-a079-cab3fe5752a1\" type=\"checkbox\" ><label class=\"sk-toggleable__label\" for=\"24ecfba7-8208-4090-a079-cab3fe5752a1\">OneHotEncoder</label><div class=\"sk-toggleable__content\"><pre>OneHotEncoder(handle_unknown='ignore', sparse=False)</pre></div></div></div></div></div></div></div></div></div></div></div><div class=\"sk-parallel-item\"><div class=\"sk-item\"><div class=\"sk-label-container\"><div class=\"sk-label sk-toggleable\"><label>time_processing</label></div></div><div class=\"sk-serial\"><div class=\"sk-item\"><div class=\"sk-serial\"><div class=\"sk-item\"><div class=\"sk-estimator sk-toggleable\"><input class=\"sk-toggleable__control sk-hidden--visually\" id=\"c6137b7b-b2c2-4ed4-8a32-a35926651aac\" type=\"checkbox\" ><label class=\"sk-toggleable__label\" for=\"c6137b7b-b2c2-4ed4-8a32-a35926651aac\">TimeFeaturesExtractor</label><div class=\"sk-toggleable__content\"><pre>TimeFeaturesExtractor()</pre></div></div></div><div class=\"sk-item\"><div class=\"sk-estimator sk-toggleable\"><input class=\"sk-toggleable__control sk-hidden--visually\" id=\"bd35ebe1-3fcf-410c-9bb0-3a178f04dc84\" type=\"checkbox\" ><label class=\"sk-toggleable__label\" for=\"bd35ebe1-3fcf-410c-9bb0-3a178f04dc84\">CyclicalEncoder</label><div class=\"sk-toggleable__content\"><pre>CyclicalEncoder()</pre></div></div></div></div></div></div></div></div></div></div><div class=\"sk-item\"><div class=\"sk-estimator sk-toggleable\"><input class=\"sk-toggleable__control sk-hidden--visually\" id=\"00145724-b29c-4089-af36-a49f9e4f3647\" type=\"checkbox\" ><label class=\"sk-toggleable__label\" for=\"00145724-b29c-4089-af36-a49f9e4f3647\">Lasso</label><div class=\"sk-toggleable__content\"><pre>Lasso()</pre></div></div></div></div></div></div></div>"
      ],
      "text/plain": [
       "Pipeline(steps=[('preprocessing',\n",
       "                 FeatureUnion(transformer_list=[('preprocessing',\n",
       "                                                 ColumnTransformer(transformers=[('num_transformer',\n",
       "                                                                                  RobustScaler(),\n",
       "                                                                                  ['duration_min',\n",
       "                                                                                   'budget',\n",
       "                                                                                   'number_of_awards_won',\n",
       "                                                                                   'number_of_nominations',\n",
       "                                                                                   'has_collection',\n",
       "                                                                                   'number_of_top_productions']),\n",
       "                                                                                 ('cat_transformer',\n",
       "                                                                                  OneHotEncoder(handle_unknown='ignore',\n",
       "                                                                                                sparse=False),\n",
       "                                                                                  ['original_language',\n",
       "                                                                                   'status',\n",
       "                                                                                   'all_genres',\n",
       "                                                                                   'top_countries',\n",
       "                                                                                   'available_in_english'])])),\n",
       "                                                ('time_processing',\n",
       "                                                 Pipeline(steps=[('time',\n",
       "                                                                  TimeFeaturesExtractor()),\n",
       "                                                                 ('cycle',\n",
       "                                                                  CyclicalEncoder())]))])),\n",
       "                ('linear_regression', Lasso())])"
      ]
     },
     "execution_count": 218,
     "metadata": {},
     "output_type": "execute_result"
    }
   ],
   "source": [
    "time_processing = Pipeline([\n",
    "    ('time', TimeFeaturesExtractor()),\n",
    "    ('cycle', CyclicalEncoder())\n",
    "])\n",
    "\n",
    "enhanced_preprocess = FeatureUnion([\n",
    "    ('preprocessing', basic_preprocessing),\n",
    "    ('time_processing', time_processing)\n",
    "])\n",
    "\n",
    "time_pipeline = Pipeline([\n",
    "    ('preprocessing', enhanced_preprocess),\n",
    "    ('linear_regression', Lasso())\n",
    "])\n",
    "time_pipeline"
   ]
  },
  {
   "cell_type": "markdown",
   "metadata": {},
   "source": [
    "### Advanced categorical encoder to reduce the number of features\n",
    "\n",
    "ℹ️ Most of it has already been coded for you and it shouldn't take long. Still if you want to skip it and move to the next section: _Model Tuning_"
   ]
  },
  {
   "cell_type": "markdown",
   "metadata": {},
   "source": [
    "👉 We need to reduce the number of features to one-hot-encode, which arise from the high cardinality of `all_genres` and `top_countries`"
   ]
  },
  {
   "cell_type": "code",
   "execution_count": 219,
   "metadata": {
    "ExecuteTime": {
     "end_time": "2021-06-30T12:52:56.022040Z",
     "start_time": "2021-06-30T12:52:56.010233Z"
    }
   },
   "outputs": [
    {
     "data": {
      "text/plain": [
       "all_genres       745\n",
       "top_countries    320\n",
       "dtype: int64"
      ]
     },
     "execution_count": 219,
     "metadata": {},
     "output_type": "execute_result"
    }
   ],
   "source": [
    "X[['all_genres', 'top_countries']].nunique()"
   ]
  },
  {
   "cell_type": "markdown",
   "metadata": {},
   "source": [
    "👇 Both share a common pattern: there can be more than 1 country and more than 1 genre per movie."
   ]
  },
  {
   "cell_type": "code",
   "execution_count": 220,
   "metadata": {
    "ExecuteTime": {
     "end_time": "2021-06-30T12:52:56.919234Z",
     "start_time": "2021-06-30T12:52:56.907137Z"
    }
   },
   "outputs": [
    {
     "data": {
      "text/html": [
       "<div>\n",
       "<style scoped>\n",
       "    .dataframe tbody tr th:only-of-type {\n",
       "        vertical-align: middle;\n",
       "    }\n",
       "\n",
       "    .dataframe tbody tr th {\n",
       "        vertical-align: top;\n",
       "    }\n",
       "\n",
       "    .dataframe thead th {\n",
       "        text-align: right;\n",
       "    }\n",
       "</style>\n",
       "<table border=\"1\" class=\"dataframe\">\n",
       "  <thead>\n",
       "    <tr style=\"text-align: right;\">\n",
       "      <th></th>\n",
       "      <th>all_genres</th>\n",
       "      <th>top_countries</th>\n",
       "    </tr>\n",
       "  </thead>\n",
       "  <tbody>\n",
       "    <tr>\n",
       "      <th>6859</th>\n",
       "      <td>Animation, Drama, Family</td>\n",
       "      <td>United States of America</td>\n",
       "    </tr>\n",
       "    <tr>\n",
       "      <th>6860</th>\n",
       "      <td>Comedy, Drama, Romance</td>\n",
       "      <td>United States of America</td>\n",
       "    </tr>\n",
       "    <tr>\n",
       "      <th>6861</th>\n",
       "      <td>Comedy, Drama</td>\n",
       "      <td>United States of America</td>\n",
       "    </tr>\n",
       "    <tr>\n",
       "      <th>6862</th>\n",
       "      <td>Adventure, Mystery, Science Fiction</td>\n",
       "      <td>United Kingdom, United States of America</td>\n",
       "    </tr>\n",
       "    <tr>\n",
       "      <th>6863</th>\n",
       "      <td>Horror, Mystery, Science Fiction</td>\n",
       "      <td>United Kingdom, United States of America</td>\n",
       "    </tr>\n",
       "  </tbody>\n",
       "</table>\n",
       "</div>"
      ],
      "text/plain": [
       "                               all_genres  \\\n",
       "6859             Animation, Drama, Family   \n",
       "6860               Comedy, Drama, Romance   \n",
       "6861                        Comedy, Drama   \n",
       "6862  Adventure, Mystery, Science Fiction   \n",
       "6863     Horror, Mystery, Science Fiction   \n",
       "\n",
       "                                 top_countries  \n",
       "6859                  United States of America  \n",
       "6860                  United States of America  \n",
       "6861                  United States of America  \n",
       "6862  United Kingdom, United States of America  \n",
       "6863  United Kingdom, United States of America  "
      ]
     },
     "execution_count": 220,
     "metadata": {},
     "output_type": "execute_result"
    }
   ],
   "source": [
    "X[['all_genres', 'top_countries']].tail()"
   ]
  },
  {
   "cell_type": "markdown",
   "metadata": {},
   "source": [
    "👉 Run the cell below where we have coded for you a custom transformer `CustomGenreAndCountryEncoder` which: \n",
    "- Select the 10 most frequent genres and the 5 most frequent countries\n",
    "- Encode `all_genres` into 10 One Hot Encoded features\n",
    "- Encode `top_countries` into 5 One Hot Encoded features"
   ]
  },
  {
   "cell_type": "code",
   "execution_count": 221,
   "metadata": {
    "ExecuteTime": {
     "end_time": "2021-06-30T12:52:58.035431Z",
     "start_time": "2021-06-30T12:52:58.024783Z"
    }
   },
   "outputs": [],
   "source": [
    "from collections import Counter\n",
    "from sklearn.base import BaseEstimator, TransformerMixin\n",
    "\n",
    "class CustomGenreAndCountryEncoder(BaseEstimator, TransformerMixin):\n",
    "    \"\"\"\n",
    "    Encoding the all_genres and top_companies features which are multi-categorical :\n",
    "    a movie has several possible genres and countries of productions!\n",
    "    \"\"\"\n",
    "\n",
    "    def __init__(self):\n",
    "        pass\n",
    "\n",
    "    def fit(self, X, y=None):\n",
    "        \"\"\"\n",
    "        compute top genres and top countries of productions from all_genres and top_countries features\n",
    "        \"\"\"\n",
    "\n",
    "        # compute top 10 genres       \n",
    "        list_of_genres = list(X['all_genres'].apply(lambda x: [i.strip() for i in x.split(\",\")] if x != [''] else []).values)\n",
    "        top_genres = [m[0] for m in Counter([i for j in list_of_genres for i in j]).most_common(10)]\n",
    "\n",
    "        # save top_genres in dedicated instance variable\n",
    "        self.top_genres = top_genres\n",
    "        \n",
    "         # compute top 5 countries       \n",
    "        list_of_countries = list(X['top_countries'].apply(lambda x: [i.strip() for i in x.split(\",\")] if x != [''] else []).values)\n",
    "        top_countries = [m[0] for m in Counter([i for j in list_of_countries for i in j]).most_common(5)]\n",
    "\n",
    "        # save top_countries in dedicated instance variable\n",
    "        self.top_countries = top_countries\n",
    "\n",
    "        return self\n",
    "\n",
    "    def transform(self, X, y=None):\n",
    "        \"\"\"\n",
    "        encoding genre and country\n",
    "        \"\"\"\n",
    "        X_new = X.copy()\n",
    "        for genre in self.top_genres:\n",
    "            X_new['genre_' + genre] = X_new['all_genres'].apply(lambda x: 1 if genre in x else 0)\n",
    "        X_new = X_new.drop(columns=[\"all_genres\"])\n",
    "        for country in self.top_countries:\n",
    "            X_new['country_' + country] = X_new['top_countries'].apply(lambda x: 1 if country in x else 0)\n",
    "        X_new = X_new.drop(columns=[\"top_countries\"])\n",
    "        return X_new"
   ]
  },
  {
   "cell_type": "code",
   "execution_count": 222,
   "metadata": {
    "ExecuteTime": {
     "end_time": "2021-06-30T12:52:58.983121Z",
     "start_time": "2021-06-30T12:52:58.853339Z"
    }
   },
   "outputs": [
    {
     "name": "stdout",
     "output_type": "stream",
     "text": [
      "(6863, 15)\n"
     ]
    },
    {
     "data": {
      "text/html": [
       "<div>\n",
       "<style scoped>\n",
       "    .dataframe tbody tr th:only-of-type {\n",
       "        vertical-align: middle;\n",
       "    }\n",
       "\n",
       "    .dataframe tbody tr th {\n",
       "        vertical-align: top;\n",
       "    }\n",
       "\n",
       "    .dataframe thead th {\n",
       "        text-align: right;\n",
       "    }\n",
       "</style>\n",
       "<table border=\"1\" class=\"dataframe\">\n",
       "  <thead>\n",
       "    <tr style=\"text-align: right;\">\n",
       "      <th></th>\n",
       "      <th>genre_Drama</th>\n",
       "      <th>genre_Comedy</th>\n",
       "      <th>genre_Thriller</th>\n",
       "      <th>genre_Action</th>\n",
       "      <th>genre_Romance</th>\n",
       "      <th>genre_Adventure</th>\n",
       "      <th>genre_Crime</th>\n",
       "      <th>genre_Horror</th>\n",
       "      <th>genre_Science Fiction</th>\n",
       "      <th>genre_Family</th>\n",
       "      <th>country_United States of America</th>\n",
       "      <th>country_United Kingdom</th>\n",
       "      <th>country_France</th>\n",
       "      <th>country_Germany</th>\n",
       "      <th>country_Canada</th>\n",
       "    </tr>\n",
       "  </thead>\n",
       "  <tbody>\n",
       "    <tr>\n",
       "      <th>0</th>\n",
       "      <td>0</td>\n",
       "      <td>1</td>\n",
       "      <td>0</td>\n",
       "      <td>0</td>\n",
       "      <td>0</td>\n",
       "      <td>0</td>\n",
       "      <td>0</td>\n",
       "      <td>0</td>\n",
       "      <td>0</td>\n",
       "      <td>0</td>\n",
       "      <td>1</td>\n",
       "      <td>0</td>\n",
       "      <td>0</td>\n",
       "      <td>0</td>\n",
       "      <td>0</td>\n",
       "    </tr>\n",
       "    <tr>\n",
       "      <th>1</th>\n",
       "      <td>1</td>\n",
       "      <td>1</td>\n",
       "      <td>0</td>\n",
       "      <td>0</td>\n",
       "      <td>1</td>\n",
       "      <td>0</td>\n",
       "      <td>0</td>\n",
       "      <td>0</td>\n",
       "      <td>0</td>\n",
       "      <td>1</td>\n",
       "      <td>1</td>\n",
       "      <td>0</td>\n",
       "      <td>0</td>\n",
       "      <td>0</td>\n",
       "      <td>0</td>\n",
       "    </tr>\n",
       "    <tr>\n",
       "      <th>2</th>\n",
       "      <td>1</td>\n",
       "      <td>0</td>\n",
       "      <td>0</td>\n",
       "      <td>0</td>\n",
       "      <td>0</td>\n",
       "      <td>0</td>\n",
       "      <td>0</td>\n",
       "      <td>0</td>\n",
       "      <td>0</td>\n",
       "      <td>0</td>\n",
       "      <td>1</td>\n",
       "      <td>0</td>\n",
       "      <td>0</td>\n",
       "      <td>0</td>\n",
       "      <td>0</td>\n",
       "    </tr>\n",
       "    <tr>\n",
       "      <th>3</th>\n",
       "      <td>1</td>\n",
       "      <td>0</td>\n",
       "      <td>1</td>\n",
       "      <td>0</td>\n",
       "      <td>0</td>\n",
       "      <td>0</td>\n",
       "      <td>0</td>\n",
       "      <td>0</td>\n",
       "      <td>0</td>\n",
       "      <td>0</td>\n",
       "      <td>0</td>\n",
       "      <td>0</td>\n",
       "      <td>0</td>\n",
       "      <td>0</td>\n",
       "      <td>0</td>\n",
       "    </tr>\n",
       "    <tr>\n",
       "      <th>4</th>\n",
       "      <td>0</td>\n",
       "      <td>0</td>\n",
       "      <td>1</td>\n",
       "      <td>0</td>\n",
       "      <td>0</td>\n",
       "      <td>0</td>\n",
       "      <td>0</td>\n",
       "      <td>1</td>\n",
       "      <td>0</td>\n",
       "      <td>0</td>\n",
       "      <td>1</td>\n",
       "      <td>0</td>\n",
       "      <td>0</td>\n",
       "      <td>0</td>\n",
       "      <td>1</td>\n",
       "    </tr>\n",
       "  </tbody>\n",
       "</table>\n",
       "</div>"
      ],
      "text/plain": [
       "   genre_Drama  genre_Comedy  genre_Thriller  genre_Action  genre_Romance  \\\n",
       "0            0             1               0             0              0   \n",
       "1            1             1               0             0              1   \n",
       "2            1             0               0             0              0   \n",
       "3            1             0               1             0              0   \n",
       "4            0             0               1             0              0   \n",
       "\n",
       "   genre_Adventure  genre_Crime  genre_Horror  genre_Science Fiction  \\\n",
       "0                0            0             0                      0   \n",
       "1                0            0             0                      0   \n",
       "2                0            0             0                      0   \n",
       "3                0            0             0                      0   \n",
       "4                0            0             1                      0   \n",
       "\n",
       "   genre_Family  country_United States of America  country_United Kingdom  \\\n",
       "0             0                                 1                       0   \n",
       "1             1                                 1                       0   \n",
       "2             0                                 1                       0   \n",
       "3             0                                 0                       0   \n",
       "4             0                                 1                       0   \n",
       "\n",
       "   country_France  country_Germany  country_Canada  \n",
       "0               0                0               0  \n",
       "1               0                0               0  \n",
       "2               0                0               0  \n",
       "3               0                0               0  \n",
       "4               0                0               1  "
      ]
     },
     "execution_count": 222,
     "metadata": {},
     "output_type": "execute_result"
    }
   ],
   "source": [
    "# Check it out\n",
    "X_custom = CustomGenreAndCountryEncoder().fit_transform(X[['all_genres', 'top_countries']])\n",
    "print(X_custom.shape)\n",
    "X_custom.head()"
   ]
  },
  {
   "cell_type": "markdown",
   "metadata": {},
   "source": [
    "**📝 Compute your `final_pipeline` by integrating all these transformers** (or all those you have coded)\n",
    "\n",
    "- `CustomGenreAndCountryEncoder`\n",
    "- `TimeFeaturesExtractor`\n",
    "- `CyclicalFeatureExtractor`"
   ]
  },
  {
   "cell_type": "code",
   "execution_count": 230,
   "metadata": {
    "ExecuteTime": {
     "end_time": "2021-06-30T12:59:27.094894Z",
     "start_time": "2021-06-30T12:59:26.655888Z"
    }
   },
   "outputs": [
    {
     "data": {
      "text/html": [
       "<style>div.sk-top-container {color: black;background-color: white;}div.sk-toggleable {background-color: white;}label.sk-toggleable__label {cursor: pointer;display: block;width: 100%;margin-bottom: 0;padding: 0.2em 0.3em;box-sizing: border-box;text-align: center;}div.sk-toggleable__content {max-height: 0;max-width: 0;overflow: hidden;text-align: left;background-color: #f0f8ff;}div.sk-toggleable__content pre {margin: 0.2em;color: black;border-radius: 0.25em;background-color: #f0f8ff;}input.sk-toggleable__control:checked~div.sk-toggleable__content {max-height: 200px;max-width: 100%;overflow: auto;}div.sk-estimator input.sk-toggleable__control:checked~label.sk-toggleable__label {background-color: #d4ebff;}div.sk-label input.sk-toggleable__control:checked~label.sk-toggleable__label {background-color: #d4ebff;}input.sk-hidden--visually {border: 0;clip: rect(1px 1px 1px 1px);clip: rect(1px, 1px, 1px, 1px);height: 1px;margin: -1px;overflow: hidden;padding: 0;position: absolute;width: 1px;}div.sk-estimator {font-family: monospace;background-color: #f0f8ff;margin: 0.25em 0.25em;border: 1px dotted black;border-radius: 0.25em;box-sizing: border-box;}div.sk-estimator:hover {background-color: #d4ebff;}div.sk-parallel-item::after {content: \"\";width: 100%;border-bottom: 1px solid gray;flex-grow: 1;}div.sk-label:hover label.sk-toggleable__label {background-color: #d4ebff;}div.sk-serial::before {content: \"\";position: absolute;border-left: 1px solid gray;box-sizing: border-box;top: 2em;bottom: 0;left: 50%;}div.sk-serial {display: flex;flex-direction: column;align-items: center;background-color: white;}div.sk-item {z-index: 1;}div.sk-parallel {display: flex;align-items: stretch;justify-content: center;background-color: white;}div.sk-parallel-item {display: flex;flex-direction: column;position: relative;background-color: white;}div.sk-parallel-item:first-child::after {align-self: flex-end;width: 50%;}div.sk-parallel-item:last-child::after {align-self: flex-start;width: 50%;}div.sk-parallel-item:only-child::after {width: 0;}div.sk-dashed-wrapped {border: 1px dashed gray;margin: 0.2em;box-sizing: border-box;padding-bottom: 0.1em;background-color: white;position: relative;}div.sk-label label {font-family: monospace;font-weight: bold;background-color: white;display: inline-block;line-height: 1.2em;}div.sk-label-container {position: relative;z-index: 2;text-align: center;}div.sk-container {display: inline-block;position: relative;}</style><div class=\"sk-top-container\"><div class=\"sk-container\"><div class=\"sk-item sk-dashed-wrapped\"><div class=\"sk-label-container\"><div class=\"sk-label sk-toggleable\"><input class=\"sk-toggleable__control sk-hidden--visually\" id=\"9e733ac9-900d-4f96-96d0-ab44482ca8a7\" type=\"checkbox\" ><label class=\"sk-toggleable__label\" for=\"9e733ac9-900d-4f96-96d0-ab44482ca8a7\">Pipeline</label><div class=\"sk-toggleable__content\"><pre>Pipeline(steps=[('preprocessing',\n",
       "                 FeatureUnion(transformer_list=[('preprocessing',\n",
       "                                                 ColumnTransformer(transformers=[('num_transformer',\n",
       "                                                                                  RobustScaler(),\n",
       "                                                                                  ['duration_min',\n",
       "                                                                                   'budget',\n",
       "                                                                                   'number_of_awards_won',\n",
       "                                                                                   'number_of_nominations',\n",
       "                                                                                   'has_collection',\n",
       "                                                                                   'number_of_top_productions']),\n",
       "                                                                                 ('cat_transformer',\n",
       "                                                                                  OneHotEncoder(handle_unknown='ignore',\n",
       "                                                                                                sparse=False),\n",
       "                                                                                  ['original_la...,\n",
       "                                                                                   'status',\n",
       "                                                                                   'all_genres',\n",
       "                                                                                   'top_countries',\n",
       "                                                                                   'available_in_english'])])),\n",
       "                                                ('time_processing',\n",
       "                                                 Pipeline(steps=[('time',\n",
       "                                                                  TimeFeaturesExtractor()),\n",
       "                                                                 ('cycle',\n",
       "                                                                  CyclicalEncoder())])),\n",
       "                                                ('genre_countries_preprocessing',\n",
       "                                                 ColumnTransformer(transformers=[('genre_countries',\n",
       "                                                                                  CustomGenreAndCountryEncoder(),\n",
       "                                                                                  ['all_genres',\n",
       "                                                                                   'top_countries'])]))])),\n",
       "                ('linear_regression', Lasso())])</pre></div></div></div><div class=\"sk-serial\"><div class=\"sk-item sk-dashed-wrapped\"><div class=\"sk-label-container\"><div class=\"sk-label sk-toggleable\"><input class=\"sk-toggleable__control sk-hidden--visually\" id=\"50ba453d-3585-4868-b24e-c22c1af135ca\" type=\"checkbox\" ><label class=\"sk-toggleable__label\" for=\"50ba453d-3585-4868-b24e-c22c1af135ca\">preprocessing: FeatureUnion</label><div class=\"sk-toggleable__content\"><pre>FeatureUnion(transformer_list=[('preprocessing',\n",
       "                                ColumnTransformer(transformers=[('num_transformer',\n",
       "                                                                 RobustScaler(),\n",
       "                                                                 ['duration_min',\n",
       "                                                                  'budget',\n",
       "                                                                  'number_of_awards_won',\n",
       "                                                                  'number_of_nominations',\n",
       "                                                                  'has_collection',\n",
       "                                                                  'number_of_top_productions']),\n",
       "                                                                ('cat_transformer',\n",
       "                                                                 OneHotEncoder(handle_unknown='ignore',\n",
       "                                                                               sparse=False),\n",
       "                                                                 ['original_language',\n",
       "                                                                  'status',\n",
       "                                                                  'all_genres',\n",
       "                                                                  'top_countries',\n",
       "                                                                  'available_in_english'])])),\n",
       "                               ('time_processing',\n",
       "                                Pipeline(steps=[('time',\n",
       "                                                 TimeFeaturesExtractor()),\n",
       "                                                ('cycle', CyclicalEncoder())])),\n",
       "                               ('genre_countries_preprocessing',\n",
       "                                ColumnTransformer(transformers=[('genre_countries',\n",
       "                                                                 CustomGenreAndCountryEncoder(),\n",
       "                                                                 ['all_genres',\n",
       "                                                                  'top_countries'])]))])</pre></div></div></div><div class=\"sk-parallel\"><div class=\"sk-parallel-item\"><div class=\"sk-item\"><div class=\"sk-label-container\"><div class=\"sk-label sk-toggleable\"><label>preprocessing</label></div></div><div class=\"sk-serial\"><div class=\"sk-item sk-dashed-wrapped\"><div class=\"sk-parallel\"><div class=\"sk-parallel-item\"><div class=\"sk-item\"><div class=\"sk-label-container\"><div class=\"sk-label sk-toggleable\"><input class=\"sk-toggleable__control sk-hidden--visually\" id=\"3cd9d4cb-eada-4740-b7f5-ae7080280bbd\" type=\"checkbox\" ><label class=\"sk-toggleable__label\" for=\"3cd9d4cb-eada-4740-b7f5-ae7080280bbd\">num_transformer</label><div class=\"sk-toggleable__content\"><pre>['duration_min', 'budget', 'number_of_awards_won', 'number_of_nominations', 'has_collection', 'number_of_top_productions']</pre></div></div></div><div class=\"sk-serial\"><div class=\"sk-item\"><div class=\"sk-estimator sk-toggleable\"><input class=\"sk-toggleable__control sk-hidden--visually\" id=\"6e882693-f844-400b-a5ec-a9b90fdfd4a1\" type=\"checkbox\" ><label class=\"sk-toggleable__label\" for=\"6e882693-f844-400b-a5ec-a9b90fdfd4a1\">RobustScaler</label><div class=\"sk-toggleable__content\"><pre>RobustScaler()</pre></div></div></div></div></div></div><div class=\"sk-parallel-item\"><div class=\"sk-item\"><div class=\"sk-label-container\"><div class=\"sk-label sk-toggleable\"><input class=\"sk-toggleable__control sk-hidden--visually\" id=\"8baa530a-89e6-4b5c-9719-a0b84e53e1af\" type=\"checkbox\" ><label class=\"sk-toggleable__label\" for=\"8baa530a-89e6-4b5c-9719-a0b84e53e1af\">cat_transformer</label><div class=\"sk-toggleable__content\"><pre>['original_language', 'status', 'all_genres', 'top_countries', 'available_in_english']</pre></div></div></div><div class=\"sk-serial\"><div class=\"sk-item\"><div class=\"sk-estimator sk-toggleable\"><input class=\"sk-toggleable__control sk-hidden--visually\" id=\"e2aa25aa-f32e-4259-9a49-981b572a8c43\" type=\"checkbox\" ><label class=\"sk-toggleable__label\" for=\"e2aa25aa-f32e-4259-9a49-981b572a8c43\">OneHotEncoder</label><div class=\"sk-toggleable__content\"><pre>OneHotEncoder(handle_unknown='ignore', sparse=False)</pre></div></div></div></div></div></div></div></div></div></div></div><div class=\"sk-parallel-item\"><div class=\"sk-item\"><div class=\"sk-label-container\"><div class=\"sk-label sk-toggleable\"><label>time_processing</label></div></div><div class=\"sk-serial\"><div class=\"sk-item\"><div class=\"sk-serial\"><div class=\"sk-item\"><div class=\"sk-estimator sk-toggleable\"><input class=\"sk-toggleable__control sk-hidden--visually\" id=\"ac1792e4-909b-467e-95b3-eecd503be96f\" type=\"checkbox\" ><label class=\"sk-toggleable__label\" for=\"ac1792e4-909b-467e-95b3-eecd503be96f\">TimeFeaturesExtractor</label><div class=\"sk-toggleable__content\"><pre>TimeFeaturesExtractor()</pre></div></div></div><div class=\"sk-item\"><div class=\"sk-estimator sk-toggleable\"><input class=\"sk-toggleable__control sk-hidden--visually\" id=\"05d86885-f3c6-4996-b709-4c96e06dca8c\" type=\"checkbox\" ><label class=\"sk-toggleable__label\" for=\"05d86885-f3c6-4996-b709-4c96e06dca8c\">CyclicalEncoder</label><div class=\"sk-toggleable__content\"><pre>CyclicalEncoder()</pre></div></div></div></div></div></div></div></div><div class=\"sk-parallel-item\"><div class=\"sk-item\"><div class=\"sk-label-container\"><div class=\"sk-label sk-toggleable\"><label>genre_countries_preprocessing</label></div></div><div class=\"sk-serial\"><div class=\"sk-item sk-dashed-wrapped\"><div class=\"sk-parallel\"><div class=\"sk-parallel-item\"><div class=\"sk-item\"><div class=\"sk-label-container\"><div class=\"sk-label sk-toggleable\"><input class=\"sk-toggleable__control sk-hidden--visually\" id=\"354b644a-97c5-44e5-9866-9e5ffb0bd499\" type=\"checkbox\" ><label class=\"sk-toggleable__label\" for=\"354b644a-97c5-44e5-9866-9e5ffb0bd499\">genre_countries</label><div class=\"sk-toggleable__content\"><pre>['all_genres', 'top_countries']</pre></div></div></div><div class=\"sk-serial\"><div class=\"sk-item\"><div class=\"sk-estimator sk-toggleable\"><input class=\"sk-toggleable__control sk-hidden--visually\" id=\"6f8935db-eed9-4c36-8f25-097a24fb6f3d\" type=\"checkbox\" ><label class=\"sk-toggleable__label\" for=\"6f8935db-eed9-4c36-8f25-097a24fb6f3d\">CustomGenreAndCountryEncoder</label><div class=\"sk-toggleable__content\"><pre>CustomGenreAndCountryEncoder()</pre></div></div></div></div></div></div></div></div></div></div></div></div></div><div class=\"sk-item\"><div class=\"sk-estimator sk-toggleable\"><input class=\"sk-toggleable__control sk-hidden--visually\" id=\"403153dd-503a-4050-9c46-27596c038f57\" type=\"checkbox\" ><label class=\"sk-toggleable__label\" for=\"403153dd-503a-4050-9c46-27596c038f57\">Lasso</label><div class=\"sk-toggleable__content\"><pre>Lasso()</pre></div></div></div></div></div></div></div>"
      ],
      "text/plain": [
       "Pipeline(steps=[('preprocessing',\n",
       "                 FeatureUnion(transformer_list=[('preprocessing',\n",
       "                                                 ColumnTransformer(transformers=[('num_transformer',\n",
       "                                                                                  RobustScaler(),\n",
       "                                                                                  ['duration_min',\n",
       "                                                                                   'budget',\n",
       "                                                                                   'number_of_awards_won',\n",
       "                                                                                   'number_of_nominations',\n",
       "                                                                                   'has_collection',\n",
       "                                                                                   'number_of_top_productions']),\n",
       "                                                                                 ('cat_transformer',\n",
       "                                                                                  OneHotEncoder(handle_unknown='ignore',\n",
       "                                                                                                sparse=False),\n",
       "                                                                                  ['original_la...,\n",
       "                                                                                   'status',\n",
       "                                                                                   'all_genres',\n",
       "                                                                                   'top_countries',\n",
       "                                                                                   'available_in_english'])])),\n",
       "                                                ('time_processing',\n",
       "                                                 Pipeline(steps=[('time',\n",
       "                                                                  TimeFeaturesExtractor()),\n",
       "                                                                 ('cycle',\n",
       "                                                                  CyclicalEncoder())])),\n",
       "                                                ('genre_countries_preprocessing',\n",
       "                                                 ColumnTransformer(transformers=[('genre_countries',\n",
       "                                                                                  CustomGenreAndCountryEncoder(),\n",
       "                                                                                  ['all_genres',\n",
       "                                                                                   'top_countries'])]))])),\n",
       "                ('linear_regression', Lasso())])"
      ]
     },
     "execution_count": 230,
     "metadata": {},
     "output_type": "execute_result"
    }
   ],
   "source": [
    "time_processing = Pipeline([\n",
    "    ('time', TimeFeaturesExtractor()),\n",
    "    ('cycle', CyclicalEncoder())\n",
    "])\n",
    "\n",
    "genre_country_processing = ColumnTransformer([\n",
    "    ('genre_countries', CustomGenreAndCountryEncoder(),['all_genres', 'top_countries']),\n",
    "])\n",
    "\n",
    "final_preprocess = FeatureUnion([\n",
    "    ('preprocessing', basic_preprocessing),\n",
    "    ('time_processing', time_processing),\n",
    "    ('genre_countries_preprocessing', genre_country_processing)\n",
    "])\n",
    "\n",
    "final_pipeline = Pipeline([\n",
    "    ('preprocessing', final_preprocess),\n",
    "    ('linear_regression', Lasso())\n",
    "])\n",
    "final_pipeline"
   ]
  },
  {
   "cell_type": "markdown",
   "metadata": {},
   "source": [
    "📝 **Compute and store its cross validated scores as `final_scores` array of floats**\n",
    "\n",
    "- It does not necessarily improve the performance before we can try-out doing model tuning\n",
    "- However, with a now limited number of features, we will be able to train more complex models in next section (ensemble...)"
   ]
  },
  {
   "cell_type": "code",
   "execution_count": 231,
   "metadata": {
    "ExecuteTime": {
     "end_time": "2021-06-30T12:59:32.265775Z",
     "start_time": "2021-06-30T12:59:30.471954Z"
    }
   },
   "outputs": [
    {
     "data": {
      "text/plain": [
       "array([-12.02027363, -11.03857653,  -7.98013915, -10.27921769,\n",
       "       -17.34017496])"
      ]
     },
     "execution_count": 231,
     "metadata": {},
     "output_type": "execute_result"
    }
   ],
   "source": [
    "final_scores = cross_val_score(final_pipeline, X, y, cv=5, scoring='neg_root_mean_squared_error')\n",
    "final_scores\n"
   ]
  },
  {
   "cell_type": "markdown",
   "metadata": {},
   "source": [
    "### 🧪 Save your result\n",
    "\n",
    "Run the following cell to save your results."
   ]
  },
  {
   "cell_type": "code",
   "execution_count": 232,
   "metadata": {
    "ExecuteTime": {
     "end_time": "2021-06-30T12:59:35.072945Z",
     "start_time": "2021-06-30T12:59:35.064906Z"
    }
   },
   "outputs": [],
   "source": [
    "ChallengeResult(\n",
    "    'feature_engineering',\n",
    "    X_time_features=X_time_features,\n",
    "    X_time_cyclical= X_time_cyclical,\n",
    "    time_pipeline=time_pipeline,\n",
    "    final_pipeline=final_pipeline,\n",
    "    final_scores=final_scores\n",
    ").write()\n",
    "\n",
    "# Hint: Try restarting your notebook if you obtain an error about saving a custom encoder"
   ]
  },
  {
   "cell_type": "markdown",
   "metadata": {},
   "source": [
    "## Model tuning"
   ]
  },
  {
   "cell_type": "markdown",
   "metadata": {},
   "source": [
    "### Random Forest"
   ]
  },
  {
   "cell_type": "markdown",
   "metadata": {},
   "source": [
    "📝 **Change the estimator of your `final_pipeline` by a Random Forest and checkout your new cross-validated score**"
   ]
  },
  {
   "cell_type": "code",
   "execution_count": 246,
   "metadata": {
    "ExecuteTime": {
     "end_time": "2021-06-30T13:15:28.108596Z",
     "start_time": "2021-06-30T13:13:50.349506Z"
    },
    "tags": [
     "challengify"
    ]
   },
   "outputs": [
    {
     "data": {
      "text/plain": [
       "array([ -9.13834303,  -9.98786088,  -7.67937256, -10.60895691,\n",
       "       -15.51545162])"
      ]
     },
     "execution_count": 246,
     "metadata": {},
     "output_type": "execute_result"
    }
   ],
   "source": [
    "from sklearn.ensemble import RandomForestRegressor\n",
    "\n",
    "new_pipeline = Pipeline([\n",
    "    ('preprocessing', final_preprocess),\n",
    "    ('linear_regression', RandomForestRegressor())\n",
    "])\n",
    "\n",
    "new_scores = cross_val_score(new_pipeline, X, y, cv=5, scoring='neg_root_mean_squared_error')\n",
    "new_scores"
   ]
  },
  {
   "cell_type": "markdown",
   "metadata": {},
   "source": [
    "### Best hyperparameters quest\n",
    "\n",
    "\n",
    "\n",
    "**📝 Fine tune your model to try to get the best performance in the minimum amount of time!**\n",
    "\n",
    "- Store the result of your search inside the `search` variable.\n",
    "- Store your 5 cross-validated scores inside `best_scores` array of floats"
   ]
  },
  {
   "cell_type": "code",
   "execution_count": 253,
   "metadata": {
    "ExecuteTime": {
     "end_time": "2021-06-30T13:19:03.902972Z",
     "start_time": "2021-06-30T13:19:03.898708Z"
    },
    "tags": [
     "challengify"
    ]
   },
   "outputs": [],
   "source": [
    "from sklearn.model_selection import GridSearchCV\n",
    "\n",
    "grid_search = GridSearchCV(\n",
    "    new_pipeline, \n",
    "    param_grid={\n",
    "        'linear_regression__n_estimators' : [10, 50, 100, 150, 200]\n",
    "    },\n",
    "    cv=5,\n",
    "    scoring=\"neg_root_mean_squared_error\")"
   ]
  },
  {
   "cell_type": "code",
   "execution_count": 254,
   "metadata": {
    "ExecuteTime": {
     "end_time": "2021-06-30T13:28:04.769790Z",
     "start_time": "2021-06-30T13:19:07.052854Z"
    }
   },
   "outputs": [
    {
     "data": {
      "text/html": [
       "<style>div.sk-top-container {color: black;background-color: white;}div.sk-toggleable {background-color: white;}label.sk-toggleable__label {cursor: pointer;display: block;width: 100%;margin-bottom: 0;padding: 0.2em 0.3em;box-sizing: border-box;text-align: center;}div.sk-toggleable__content {max-height: 0;max-width: 0;overflow: hidden;text-align: left;background-color: #f0f8ff;}div.sk-toggleable__content pre {margin: 0.2em;color: black;border-radius: 0.25em;background-color: #f0f8ff;}input.sk-toggleable__control:checked~div.sk-toggleable__content {max-height: 200px;max-width: 100%;overflow: auto;}div.sk-estimator input.sk-toggleable__control:checked~label.sk-toggleable__label {background-color: #d4ebff;}div.sk-label input.sk-toggleable__control:checked~label.sk-toggleable__label {background-color: #d4ebff;}input.sk-hidden--visually {border: 0;clip: rect(1px 1px 1px 1px);clip: rect(1px, 1px, 1px, 1px);height: 1px;margin: -1px;overflow: hidden;padding: 0;position: absolute;width: 1px;}div.sk-estimator {font-family: monospace;background-color: #f0f8ff;margin: 0.25em 0.25em;border: 1px dotted black;border-radius: 0.25em;box-sizing: border-box;}div.sk-estimator:hover {background-color: #d4ebff;}div.sk-parallel-item::after {content: \"\";width: 100%;border-bottom: 1px solid gray;flex-grow: 1;}div.sk-label:hover label.sk-toggleable__label {background-color: #d4ebff;}div.sk-serial::before {content: \"\";position: absolute;border-left: 1px solid gray;box-sizing: border-box;top: 2em;bottom: 0;left: 50%;}div.sk-serial {display: flex;flex-direction: column;align-items: center;background-color: white;}div.sk-item {z-index: 1;}div.sk-parallel {display: flex;align-items: stretch;justify-content: center;background-color: white;}div.sk-parallel-item {display: flex;flex-direction: column;position: relative;background-color: white;}div.sk-parallel-item:first-child::after {align-self: flex-end;width: 50%;}div.sk-parallel-item:last-child::after {align-self: flex-start;width: 50%;}div.sk-parallel-item:only-child::after {width: 0;}div.sk-dashed-wrapped {border: 1px dashed gray;margin: 0.2em;box-sizing: border-box;padding-bottom: 0.1em;background-color: white;position: relative;}div.sk-label label {font-family: monospace;font-weight: bold;background-color: white;display: inline-block;line-height: 1.2em;}div.sk-label-container {position: relative;z-index: 2;text-align: center;}div.sk-container {display: inline-block;position: relative;}</style><div class=\"sk-top-container\"><div class=\"sk-container\"><div class=\"sk-item sk-dashed-wrapped\"><div class=\"sk-label-container\"><div class=\"sk-label sk-toggleable\"><input class=\"sk-toggleable__control sk-hidden--visually\" id=\"51a4e33f-f26b-4f74-bfd1-1d2f1d6e79f0\" type=\"checkbox\" ><label class=\"sk-toggleable__label\" for=\"51a4e33f-f26b-4f74-bfd1-1d2f1d6e79f0\">GridSearchCV</label><div class=\"sk-toggleable__content\"><pre>GridSearchCV(cv=5,\n",
       "             estimator=Pipeline(steps=[('preprocessing',\n",
       "                                        FeatureUnion(transformer_list=[('preprocessing',\n",
       "                                                                        ColumnTransformer(transformers=[('num_transformer',\n",
       "                                                                                                         RobustScaler(),\n",
       "                                                                                                         ['duration_min',\n",
       "                                                                                                          'budget',\n",
       "                                                                                                          'number_of_awards_won',\n",
       "                                                                                                          'number_of_nominations',\n",
       "                                                                                                          'has_collection',\n",
       "                                                                                                          'number_of_top_productions']),\n",
       "                                                                                                        ('cat_transformer',\n",
       "                                                                                                         OneHotEncoder(handle_unknown='ignore'...\n",
       "                                                                                         TimeFeaturesExtractor()),\n",
       "                                                                                        ('cycle',\n",
       "                                                                                         CyclicalEncoder())])),\n",
       "                                                                       ('genre_countries_preprocessing',\n",
       "                                                                        ColumnTransformer(transformers=[('genre_countries',\n",
       "                                                                                                         CustomGenreAndCountryEncoder(),\n",
       "                                                                                                         ['all_genres',\n",
       "                                                                                                          'top_countries'])]))])),\n",
       "                                       ('linear_regression',\n",
       "                                        RandomForestRegressor())]),\n",
       "             param_grid={'linear_regression__n_estimators': [10, 50, 100, 150,\n",
       "                                                             200]},\n",
       "             scoring='neg_root_mean_squared_error')</pre></div></div></div><div class=\"sk-parallel\"><div class=\"sk-parallel-item\"><div class=\"sk-item\"><div class=\"sk-serial\"><div class=\"sk-item\"><div class=\"sk-serial\"><div class=\"sk-item sk-dashed-wrapped\"><div class=\"sk-label-container\"><div class=\"sk-label sk-toggleable\"><input class=\"sk-toggleable__control sk-hidden--visually\" id=\"6ae28bb7-c035-405c-93af-a94da5464f87\" type=\"checkbox\" ><label class=\"sk-toggleable__label\" for=\"6ae28bb7-c035-405c-93af-a94da5464f87\">preprocessing: FeatureUnion</label><div class=\"sk-toggleable__content\"><pre>FeatureUnion(transformer_list=[('preprocessing',\n",
       "                                ColumnTransformer(transformers=[('num_transformer',\n",
       "                                                                 RobustScaler(),\n",
       "                                                                 ['duration_min',\n",
       "                                                                  'budget',\n",
       "                                                                  'number_of_awards_won',\n",
       "                                                                  'number_of_nominations',\n",
       "                                                                  'has_collection',\n",
       "                                                                  'number_of_top_productions']),\n",
       "                                                                ('cat_transformer',\n",
       "                                                                 OneHotEncoder(handle_unknown='ignore',\n",
       "                                                                               sparse=False),\n",
       "                                                                 ['original_language',\n",
       "                                                                  'status',\n",
       "                                                                  'all_genres',\n",
       "                                                                  'top_countries',\n",
       "                                                                  'available_in_english'])])),\n",
       "                               ('time_processing',\n",
       "                                Pipeline(steps=[('time',\n",
       "                                                 TimeFeaturesExtractor()),\n",
       "                                                ('cycle', CyclicalEncoder())])),\n",
       "                               ('genre_countries_preprocessing',\n",
       "                                ColumnTransformer(transformers=[('genre_countries',\n",
       "                                                                 CustomGenreAndCountryEncoder(),\n",
       "                                                                 ['all_genres',\n",
       "                                                                  'top_countries'])]))])</pre></div></div></div><div class=\"sk-parallel\"><div class=\"sk-parallel-item\"><div class=\"sk-item\"><div class=\"sk-label-container\"><div class=\"sk-label sk-toggleable\"><label>preprocessing</label></div></div><div class=\"sk-serial\"><div class=\"sk-item sk-dashed-wrapped\"><div class=\"sk-parallel\"><div class=\"sk-parallel-item\"><div class=\"sk-item\"><div class=\"sk-label-container\"><div class=\"sk-label sk-toggleable\"><input class=\"sk-toggleable__control sk-hidden--visually\" id=\"e5aada49-6a50-41aa-af5d-1caf1954d960\" type=\"checkbox\" ><label class=\"sk-toggleable__label\" for=\"e5aada49-6a50-41aa-af5d-1caf1954d960\">num_transformer</label><div class=\"sk-toggleable__content\"><pre>['duration_min', 'budget', 'number_of_awards_won', 'number_of_nominations', 'has_collection', 'number_of_top_productions']</pre></div></div></div><div class=\"sk-serial\"><div class=\"sk-item\"><div class=\"sk-estimator sk-toggleable\"><input class=\"sk-toggleable__control sk-hidden--visually\" id=\"ed707c80-ef16-4a82-8420-474af6c0db0b\" type=\"checkbox\" ><label class=\"sk-toggleable__label\" for=\"ed707c80-ef16-4a82-8420-474af6c0db0b\">RobustScaler</label><div class=\"sk-toggleable__content\"><pre>RobustScaler()</pre></div></div></div></div></div></div><div class=\"sk-parallel-item\"><div class=\"sk-item\"><div class=\"sk-label-container\"><div class=\"sk-label sk-toggleable\"><input class=\"sk-toggleable__control sk-hidden--visually\" id=\"dca78188-f7fd-44f5-9ab6-32355c8ca738\" type=\"checkbox\" ><label class=\"sk-toggleable__label\" for=\"dca78188-f7fd-44f5-9ab6-32355c8ca738\">cat_transformer</label><div class=\"sk-toggleable__content\"><pre>['original_language', 'status', 'all_genres', 'top_countries', 'available_in_english']</pre></div></div></div><div class=\"sk-serial\"><div class=\"sk-item\"><div class=\"sk-estimator sk-toggleable\"><input class=\"sk-toggleable__control sk-hidden--visually\" id=\"7dbbe88a-9730-4bc9-be62-aa1e2225917c\" type=\"checkbox\" ><label class=\"sk-toggleable__label\" for=\"7dbbe88a-9730-4bc9-be62-aa1e2225917c\">OneHotEncoder</label><div class=\"sk-toggleable__content\"><pre>OneHotEncoder(handle_unknown='ignore', sparse=False)</pre></div></div></div></div></div></div></div></div></div></div></div><div class=\"sk-parallel-item\"><div class=\"sk-item\"><div class=\"sk-label-container\"><div class=\"sk-label sk-toggleable\"><label>time_processing</label></div></div><div class=\"sk-serial\"><div class=\"sk-item\"><div class=\"sk-serial\"><div class=\"sk-item\"><div class=\"sk-estimator sk-toggleable\"><input class=\"sk-toggleable__control sk-hidden--visually\" id=\"6bd5f9b6-4b37-4937-a70e-f277b9feb6e3\" type=\"checkbox\" ><label class=\"sk-toggleable__label\" for=\"6bd5f9b6-4b37-4937-a70e-f277b9feb6e3\">TimeFeaturesExtractor</label><div class=\"sk-toggleable__content\"><pre>TimeFeaturesExtractor()</pre></div></div></div><div class=\"sk-item\"><div class=\"sk-estimator sk-toggleable\"><input class=\"sk-toggleable__control sk-hidden--visually\" id=\"b7df5d47-edb9-4736-8783-bfb36b406c2e\" type=\"checkbox\" ><label class=\"sk-toggleable__label\" for=\"b7df5d47-edb9-4736-8783-bfb36b406c2e\">CyclicalEncoder</label><div class=\"sk-toggleable__content\"><pre>CyclicalEncoder()</pre></div></div></div></div></div></div></div></div><div class=\"sk-parallel-item\"><div class=\"sk-item\"><div class=\"sk-label-container\"><div class=\"sk-label sk-toggleable\"><label>genre_countries_preprocessing</label></div></div><div class=\"sk-serial\"><div class=\"sk-item sk-dashed-wrapped\"><div class=\"sk-parallel\"><div class=\"sk-parallel-item\"><div class=\"sk-item\"><div class=\"sk-label-container\"><div class=\"sk-label sk-toggleable\"><input class=\"sk-toggleable__control sk-hidden--visually\" id=\"f7eb1595-95c2-4e62-807f-e3929d5a10de\" type=\"checkbox\" ><label class=\"sk-toggleable__label\" for=\"f7eb1595-95c2-4e62-807f-e3929d5a10de\">genre_countries</label><div class=\"sk-toggleable__content\"><pre>['all_genres', 'top_countries']</pre></div></div></div><div class=\"sk-serial\"><div class=\"sk-item\"><div class=\"sk-estimator sk-toggleable\"><input class=\"sk-toggleable__control sk-hidden--visually\" id=\"3500829c-f823-4c18-a358-6a674727638e\" type=\"checkbox\" ><label class=\"sk-toggleable__label\" for=\"3500829c-f823-4c18-a358-6a674727638e\">CustomGenreAndCountryEncoder</label><div class=\"sk-toggleable__content\"><pre>CustomGenreAndCountryEncoder()</pre></div></div></div></div></div></div></div></div></div></div></div></div></div><div class=\"sk-item\"><div class=\"sk-estimator sk-toggleable\"><input class=\"sk-toggleable__control sk-hidden--visually\" id=\"ea42158a-b13e-45de-b238-7efa22906ea9\" type=\"checkbox\" ><label class=\"sk-toggleable__label\" for=\"ea42158a-b13e-45de-b238-7efa22906ea9\">RandomForestRegressor</label><div class=\"sk-toggleable__content\"><pre>RandomForestRegressor()</pre></div></div></div></div></div></div></div></div></div></div></div></div>"
      ],
      "text/plain": [
       "GridSearchCV(cv=5,\n",
       "             estimator=Pipeline(steps=[('preprocessing',\n",
       "                                        FeatureUnion(transformer_list=[('preprocessing',\n",
       "                                                                        ColumnTransformer(transformers=[('num_transformer',\n",
       "                                                                                                         RobustScaler(),\n",
       "                                                                                                         ['duration_min',\n",
       "                                                                                                          'budget',\n",
       "                                                                                                          'number_of_awards_won',\n",
       "                                                                                                          'number_of_nominations',\n",
       "                                                                                                          'has_collection',\n",
       "                                                                                                          'number_of_top_productions']),\n",
       "                                                                                                        ('cat_transformer',\n",
       "                                                                                                         OneHotEncoder(handle_unknown='ignore'...\n",
       "                                                                                         TimeFeaturesExtractor()),\n",
       "                                                                                        ('cycle',\n",
       "                                                                                         CyclicalEncoder())])),\n",
       "                                                                       ('genre_countries_preprocessing',\n",
       "                                                                        ColumnTransformer(transformers=[('genre_countries',\n",
       "                                                                                                         CustomGenreAndCountryEncoder(),\n",
       "                                                                                                         ['all_genres',\n",
       "                                                                                                          'top_countries'])]))])),\n",
       "                                       ('linear_regression',\n",
       "                                        RandomForestRegressor())]),\n",
       "             param_grid={'linear_regression__n_estimators': [10, 50, 100, 150,\n",
       "                                                             200]},\n",
       "             scoring='neg_root_mean_squared_error')"
      ]
     },
     "execution_count": 254,
     "metadata": {},
     "output_type": "execute_result"
    }
   ],
   "source": [
    "grid_search.fit(X, y)"
   ]
  },
  {
   "cell_type": "code",
   "execution_count": 267,
   "metadata": {
    "ExecuteTime": {
     "end_time": "2021-06-30T13:54:22.537485Z",
     "start_time": "2021-06-30T13:54:22.532082Z"
    }
   },
   "outputs": [
    {
     "data": {
      "text/plain": [
       "{'linear_regression__n_estimators': 150}"
      ]
     },
     "execution_count": 267,
     "metadata": {},
     "output_type": "execute_result"
    }
   ],
   "source": [
    "search = grid_search.best_params_\n",
    "search"
   ]
  },
  {
   "cell_type": "markdown",
   "metadata": {},
   "source": [
    "**📝 Re-train your best pipeline on the whole (X,y) dataset**\n",
    "- Store the trained pipeline inside the `best_pipeline` variable"
   ]
  },
  {
   "cell_type": "code",
   "execution_count": 257,
   "metadata": {
    "ExecuteTime": {
     "end_time": "2021-06-30T13:38:19.075525Z",
     "start_time": "2021-06-30T13:35:56.936908Z"
    },
    "tags": [
     "challengify"
    ]
   },
   "outputs": [
    {
     "data": {
      "text/plain": [
       "array([ -8.80708685, -10.27680956,  -7.86568216, -10.72239207,\n",
       "       -15.46747341])"
      ]
     },
     "execution_count": 257,
     "metadata": {},
     "output_type": "execute_result"
    }
   ],
   "source": [
    "best_pipeline = Pipeline([\n",
    "    ('preprocessing', final_preprocess),\n",
    "    ('linear_regression', RandomForestRegressor(n_estimators = 150))\n",
    "])\n",
    "\n",
    "best_scores = cross_val_score(best_pipeline, X, y, cv=5, scoring='neg_root_mean_squared_error')\n",
    "best_scores"
   ]
  },
  {
   "cell_type": "markdown",
   "metadata": {},
   "source": [
    "### Prediction\n",
    "\n",
    "Now you have your model tuned with the best hyperparameters, you are ready for a prediction.\n",
    "\n",
    "Here is a famous TV show released in 2017:\n",
    "\n",
    "```python\n",
    "dict(\n",
    "        original_title=str(\"La Casa de Papel\"),\n",
    "        title=str(\"Money Heist\"), \n",
    "        release_date= pd.to_datetime([\"2017-05-02\"]), \n",
    "        duration_min=float(50),\n",
    "        description=str(\"An unusual group of robbers attempt to carry out the most perfect robbery\"), \n",
    "        budget=float(3_000_000), \n",
    "        original_language =str(\"es\"), \n",
    "        status=str(\"Released\"),\n",
    "        number_of_awards_won =int(2), \n",
    "        number_of_nominations=int(5), \n",
    "        has_collection=int(1),\n",
    "        all_genres=str(\"Action, Crime, Mystery\"), \n",
    "        top_countries=str(\"Spain, France, United States of America\"), \n",
    "        number_of_top_productions=int('1'),\n",
    "        available_in_english=bool('True') \n",
    ")\n",
    "```\n",
    "\n",
    "**📝 Compute the predicted popularity of this TV show and store it into the `popularity` variable as a floating number.**"
   ]
  },
  {
   "cell_type": "code",
   "execution_count": 273,
   "metadata": {
    "ExecuteTime": {
     "end_time": "2021-06-30T14:01:07.507741Z",
     "start_time": "2021-06-30T14:01:07.484535Z"
    },
    "tags": [
     "challengify"
    ]
   },
   "outputs": [
    {
     "data": {
      "text/html": [
       "<div>\n",
       "<style scoped>\n",
       "    .dataframe tbody tr th:only-of-type {\n",
       "        vertical-align: middle;\n",
       "    }\n",
       "\n",
       "    .dataframe tbody tr th {\n",
       "        vertical-align: top;\n",
       "    }\n",
       "\n",
       "    .dataframe thead th {\n",
       "        text-align: right;\n",
       "    }\n",
       "</style>\n",
       "<table border=\"1\" class=\"dataframe\">\n",
       "  <thead>\n",
       "    <tr style=\"text-align: right;\">\n",
       "      <th></th>\n",
       "      <th>original_title</th>\n",
       "      <th>title</th>\n",
       "      <th>release_date</th>\n",
       "      <th>duration_min</th>\n",
       "      <th>description</th>\n",
       "      <th>budget</th>\n",
       "      <th>original_language</th>\n",
       "      <th>status</th>\n",
       "      <th>number_of_awards_won</th>\n",
       "      <th>number_of_nominations</th>\n",
       "      <th>has_collection</th>\n",
       "      <th>all_genres</th>\n",
       "      <th>top_countries</th>\n",
       "      <th>number_of_top_productions</th>\n",
       "      <th>available_in_english</th>\n",
       "    </tr>\n",
       "  </thead>\n",
       "  <tbody>\n",
       "    <tr>\n",
       "      <th>0</th>\n",
       "      <td>La Casa de Papel</td>\n",
       "      <td>Money Heist</td>\n",
       "      <td>2017-05-02</td>\n",
       "      <td>50.0</td>\n",
       "      <td>An unusual group of robbers attempt to carry o...</td>\n",
       "      <td>3000000.0</td>\n",
       "      <td>es</td>\n",
       "      <td>Released</td>\n",
       "      <td>2</td>\n",
       "      <td>5</td>\n",
       "      <td>1</td>\n",
       "      <td>Action, Crime, Mystery</td>\n",
       "      <td>Spain, France, United States of America</td>\n",
       "      <td>1</td>\n",
       "      <td>True</td>\n",
       "    </tr>\n",
       "  </tbody>\n",
       "</table>\n",
       "</div>"
      ],
      "text/plain": [
       "     original_title        title release_date  duration_min  \\\n",
       "0  La Casa de Papel  Money Heist   2017-05-02          50.0   \n",
       "\n",
       "                                         description     budget  \\\n",
       "0  An unusual group of robbers attempt to carry o...  3000000.0   \n",
       "\n",
       "  original_language    status  number_of_awards_won  number_of_nominations  \\\n",
       "0                es  Released                     2                      5   \n",
       "\n",
       "   has_collection              all_genres  \\\n",
       "0               1  Action, Crime, Mystery   \n",
       "\n",
       "                             top_countries  number_of_top_productions  \\\n",
       "0  Spain, France, United States of America                          1   \n",
       "\n",
       "   available_in_english  \n",
       "0                  True  "
      ]
     },
     "execution_count": 273,
     "metadata": {},
     "output_type": "execute_result"
    }
   ],
   "source": [
    "testing_features = dict(\n",
    "        original_title=str(\"La Casa de Papel\"),\n",
    "        title=str(\"Money Heist\"), \n",
    "        release_date= pd.to_datetime([\"2017-05-02\"]), \n",
    "        duration_min=float(50),\n",
    "        description=str(\"An unusual group of robbers attempt to carry out the most perfect robbery\"), \n",
    "        budget=float(3_000_000), \n",
    "        original_language =str(\"es\"), \n",
    "        status=str(\"Released\"),\n",
    "        number_of_awards_won =int(2), \n",
    "        number_of_nominations=int(5), \n",
    "        has_collection=int(1),\n",
    "        all_genres=str(\"Action, Crime, Mystery\"), \n",
    "        top_countries=str(\"Spain, France, United States of America\"), \n",
    "        number_of_top_productions=int('1'),\n",
    "        available_in_english=bool('True') \n",
    ")\n",
    "testing_feature = pd.DataFrame(testing_features)\n",
    "testing_feature"
   ]
  },
  {
   "cell_type": "code",
   "execution_count": 276,
   "metadata": {
    "ExecuteTime": {
     "end_time": "2021-06-30T14:04:11.294367Z",
     "start_time": "2021-06-30T14:03:29.833221Z"
    },
    "tags": [
     "challengify"
    ]
   },
   "outputs": [
    {
     "data": {
      "text/plain": [
       "10.638052593333335"
      ]
     },
     "execution_count": 276,
     "metadata": {},
     "output_type": "execute_result"
    }
   ],
   "source": [
    "best_pipeline.fit(X,y)\n",
    "popularity = best_pipeline.predict(testing_feature)[0]\n",
    "popularity"
   ]
  },
  {
   "cell_type": "markdown",
   "metadata": {},
   "source": [
    "### 🧪 Save your results\n",
    "\n",
    "Run the following cell to save your results."
   ]
  },
  {
   "cell_type": "code",
   "execution_count": 277,
   "metadata": {
    "ExecuteTime": {
     "end_time": "2021-06-30T14:04:38.829936Z",
     "start_time": "2021-06-30T14:04:38.669120Z"
    }
   },
   "outputs": [],
   "source": [
    "ChallengeResult(\n",
    "    \"model_tuning\",\n",
    "    search=search,\n",
    "    best_pipeline=best_pipeline,\n",
    "    best_scores = best_scores,\n",
    "    popularity=popularity\n",
    ").write()"
   ]
  },
  {
   "cell_type": "markdown",
   "metadata": {},
   "source": [
    "## API \n",
    "\n",
    "Time to put a pipeline in production!\n",
    "\n",
    "👉 Go to https://github.com/lewagon/data-certification-api and follow instructions\n",
    "\n",
    "**This final part is independent from the above notebook**"
   ]
  }
 ],
 "metadata": {
  "interpreter": {
   "hash": "572b4e543617d03e90ecaf525e08695da1ff29b13594f787e33b342cf572f792"
  },
  "kernelspec": {
   "display_name": "Python 3",
   "language": "python",
   "name": "python3"
  },
  "language_info": {
   "codemirror_mode": {
    "name": "ipython",
    "version": 3
   },
   "file_extension": ".py",
   "mimetype": "text/x-python",
   "name": "python",
   "nbconvert_exporter": "python",
   "pygments_lexer": "ipython3",
   "version": "3.8.6"
  },
  "toc": {
   "base_numbering": 1,
   "nav_menu": {},
   "number_sections": true,
   "sideBar": true,
   "skip_h1_title": true,
   "title_cell": "Table of Contents",
   "title_sidebar": "Contents",
   "toc_cell": false,
   "toc_position": {
    "height": "calc(100% - 180px)",
    "left": "10px",
    "top": "150px",
    "width": "242px"
   },
   "toc_section_display": true,
   "toc_window_display": true
  },
  "varInspector": {
   "cols": {
    "lenName": 16,
    "lenType": 16,
    "lenVar": 40
   },
   "kernels_config": {
    "python": {
     "delete_cmd_postfix": "",
     "delete_cmd_prefix": "del ",
     "library": "var_list.py",
     "varRefreshCmd": "print(var_dic_list())"
    },
    "r": {
     "delete_cmd_postfix": ") ",
     "delete_cmd_prefix": "rm(",
     "library": "var_list.r",
     "varRefreshCmd": "cat(var_dic_list()) "
    }
   },
   "types_to_exclude": [
    "module",
    "function",
    "builtin_function_or_method",
    "instance",
    "_Feature"
   ],
   "window_display": false
  }
 },
 "nbformat": 4,
 "nbformat_minor": 4
}
